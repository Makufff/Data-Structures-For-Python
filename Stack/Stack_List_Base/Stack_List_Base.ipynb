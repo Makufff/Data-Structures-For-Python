{
 "cells": [
  {
   "cell_type": "markdown",
   "metadata": {},
   "source": [
    "## Stack (List Base)"
   ]
  },
  {
   "cell_type": "code",
   "execution_count": null,
   "metadata": {},
   "outputs": [],
   "source": [
    "class ListStack:\n",
    "    def __init__(self):\n",
    "        # ใช้ List ของ Python สำหรับจัดเก็บข้อมูล\n",
    "        self.stack = []"
   ]
  },
  {
   "cell_type": "markdown",
   "metadata": {},
   "source": [
    "## is empty"
   ]
  },
  {
   "cell_type": "code",
   "execution_count": null,
   "metadata": {},
   "outputs": [],
   "source": [
    "class ListStack:\n",
    "    def __init__(self):\n",
    "        # ใช้ List ของ Python สำหรับจัดเก็บข้อมูล\n",
    "        self.stack = []\n",
    "\n",
    "    def is_empty(self):\n",
    "        # ตรวจสอบว่า Stack ว่างหรือไม่\n",
    "        return len(self.stack) == 0\n",
    "        "
   ]
  },
  {
   "cell_type": "markdown",
   "metadata": {},
   "source": [
    "## push"
   ]
  },
  {
   "cell_type": "code",
   "execution_count": null,
   "metadata": {},
   "outputs": [],
   "source": [
    "class ListStack:\n",
    "    def __init__(self):\n",
    "        # ใช้ List ของ Python สำหรับจัดเก็บข้อมูล\n",
    "        self.stack = []\n",
    "\n",
    "    def push(self, data):\n",
    "        # เพิ่มข้อมูลลงใน Stack\n",
    "        self.stack.append(data)\n",
    "        "
   ]
  },
  {
   "cell_type": "markdown",
   "metadata": {},
   "source": [
    "# pop"
   ]
  },
  {
   "cell_type": "code",
   "execution_count": null,
   "metadata": {},
   "outputs": [],
   "source": [
    "class ListStack:\n",
    "    def __init__(self):\n",
    "        # ใช้ List ของ Python สำหรับจัดเก็บข้อมูล\n",
    "        self.stack = []\n",
    "\n",
    "    def pop(self):\n",
    "        # ลบและคืนค่าข้อมูลด้านบนสุดของ Stack\n",
    "        if self.is_empty():\n",
    "            raise IndexError(\"Stack is empty\")\n",
    "        return self.stack.pop()\n"
   ]
  },
  {
   "cell_type": "markdown",
   "metadata": {},
   "source": [
    "## peek หรือ Top"
   ]
  },
  {
   "cell_type": "code",
   "execution_count": null,
   "metadata": {},
   "outputs": [],
   "source": [
    "class ListStack:\n",
    "    def __init__(self):\n",
    "        # ใช้ List ของ Python สำหรับจัดเก็บข้อมูล\n",
    "        self.stack = []\n",
    "\n",
    "    def peek(self):\n",
    "        # ดูข้อมูลด้านบนสุดของ Stack โดยไม่ลบ\n",
    "        if self.is_empty():\n",
    "            raise IndexError(\"Stack is empty\")\n",
    "        return self.stack[-1]\n",
    "    "
   ]
  },
  {
   "cell_type": "markdown",
   "metadata": {},
   "source": [
    "## print"
   ]
  },
  {
   "cell_type": "code",
   "execution_count": null,
   "metadata": {},
   "outputs": [],
   "source": [
    "class ListStack:\n",
    "    def __init__(self):\n",
    "        # ใช้ List ของ Python สำหรับจัดเก็บข้อมูล\n",
    "        self.stack = []\n",
    "\n",
    "    def print(self):\n",
    "        # แสดงข้อมูลทั้งหมดใน Stack\n",
    "        print(\"Stack:\", self.stack)\n"
   ]
  },
  {
   "cell_type": "markdown",
   "metadata": {},
   "source": [
    "## Example Use"
   ]
  },
  {
   "cell_type": "markdown",
   "metadata": {},
   "source": [
    "### Create Structure Stack List"
   ]
  },
  {
   "cell_type": "code",
   "execution_count": 1,
   "metadata": {},
   "outputs": [],
   "source": [
    "class ListStack:\n",
    "    def __init__(self):\n",
    "        # ใช้ List ของ Python สำหรับจัดเก็บข้อมูล\n",
    "        self.stack = []\n",
    "\n",
    "    def is_empty(self):\n",
    "        # ตรวจสอบว่า Stack ว่างหรือไม่\n",
    "        return len(self.stack) == 0\n",
    "    \n",
    "    def push(self, data):\n",
    "        # เพิ่มข้อมูลลงใน Stack\n",
    "        self.stack.append(data)\n",
    "    \n",
    "    def pop(self):\n",
    "        # ลบและคืนค่าข้อมูลด้านบนสุดของ Stack\n",
    "        if self.is_empty():\n",
    "            raise IndexError(\"Stack is empty\")\n",
    "        return self.stack.pop()\n",
    "    \n",
    "    def peek(self):\n",
    "        # ดูข้อมูลด้านบนสุดของ Stack โดยไม่ลบ\n",
    "        if self.is_empty():\n",
    "            raise IndexError(\"Stack is empty\")\n",
    "        return self.stack[-1]\n",
    "    \n",
    "    def print(self):\n",
    "        # แสดงข้อมูลทั้งหมดใน Stack\n",
    "        print(\"Stack:\", self.stack)\n"
   ]
  },
  {
   "cell_type": "code",
   "execution_count": 2,
   "metadata": {},
   "outputs": [
    {
     "name": "stdout",
     "output_type": "stream",
     "text": [
      "\n",
      "List Base Stack:\n",
      "Stack: [10, 20, 30]\n",
      "Peek: 30\n",
      "Pop: 30\n",
      "Stack: [10, 20]\n"
     ]
    }
   ],
   "source": [
    "if __name__ == \"__main__\":\n",
    "    # List Base Stack\n",
    "    print(\"\\nList Base Stack:\")\n",
    "    list_stack = ListStack()\n",
    "    list_stack.push(10)\n",
    "    list_stack.push(20)\n",
    "    list_stack.push(30)\n",
    "    list_stack.print()\n",
    "    print(\"Peek:\", list_stack.peek())\n",
    "    print(\"Pop:\", list_stack.pop())\n",
    "    list_stack.print()\n"
   ]
  }
 ],
 "metadata": {
  "kernelspec": {
   "display_name": "Python 3",
   "language": "python",
   "name": "python3"
  },
  "language_info": {
   "codemirror_mode": {
    "name": "ipython",
    "version": 3
   },
   "file_extension": ".py",
   "mimetype": "text/x-python",
   "name": "python",
   "nbconvert_exporter": "python",
   "pygments_lexer": "ipython3",
   "version": "3.12.8"
  }
 },
 "nbformat": 4,
 "nbformat_minor": 2
}
