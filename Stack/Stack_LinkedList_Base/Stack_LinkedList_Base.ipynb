{
 "cells": [
  {
   "cell_type": "markdown",
   "metadata": {},
   "source": [
    "## Stack (Linked List Base)"
   ]
  },
  {
   "cell_type": "markdown",
   "metadata": {},
   "source": [
    "### Create Node\n",
    "![image.png](./image/Node.png)"
   ]
  },
  {
   "cell_type": "code",
   "execution_count": null,
   "metadata": {},
   "outputs": [],
   "source": [
    "class Node :\n",
    "    pass"
   ]
  },
  {
   "cell_type": "markdown",
   "metadata": {},
   "source": [
    "![image.png](./image/Node_Data_Link.png)"
   ]
  },
  {
   "cell_type": "code",
   "execution_count": null,
   "metadata": {},
   "outputs": [],
   "source": [
    "class Node :\n",
    "    def __init__(self , data):\n",
    "        # ข้อมูล\n",
    "        self.data = data\n",
    "        # ตัวถัดไป \n",
    "        self.link = None"
   ]
  },
  {
   "cell_type": "code",
   "execution_count": null,
   "metadata": {},
   "outputs": [],
   "source": [
    "class LinkListStack:\n",
    "    def __init__(self):\n",
    "        # สร้าง link list เป็นที่เก็บข้อมูลภายใน stack\n",
    "        self.top = None # top ชี้ที่ Node ด้านบนสุดของ stack (ตอนนี้ยังไม่มี)"
   ]
  },
  {
   "cell_type": "markdown",
   "metadata": {},
   "source": [
    "## is empty"
   ]
  },
  {
   "cell_type": "code",
   "execution_count": null,
   "metadata": {},
   "outputs": [],
   "source": [
    "class LinkListStack:\n",
    "    def __init__(self):\n",
    "        # สร้าง link list เป็นที่เก็บข้อมูลภายใน stack\n",
    "        self.top = None # top ชี้ที่ Node ด้านบนสุดของ stack (ตอนนี้ยังไม่มี)\n",
    "\n",
    "    def is_empty(self):\n",
    "        # ตรวจสอบว่า Stack ว่างหรือไม่ \n",
    "        return self.top is None # ถ้า top ไม่ได้ชี้ไปที่ Node หมายความว่า stack ว่าง\n",
    "        "
   ]
  },
  {
   "cell_type": "markdown",
   "metadata": {},
   "source": [
    "## push"
   ]
  },
  {
   "cell_type": "code",
   "execution_count": null,
   "metadata": {},
   "outputs": [],
   "source": [
    "class LinkListStack:\n",
    "    def __init__(self):\n",
    "        # สร้าง link list เป็นที่เก็บข้อมูลภายใน stack\n",
    "        self.top = None # top ชี้ที่ Node ด้านบนสุดของ stack (ตอนนี้ยังไม่มี)\n",
    "\n",
    "    def push(self, data):\n",
    "        new_node = Node(data) # สร้าง node ใหม่มาเก็บข้อมูล\n",
    "        new_node.link = self.top # ให้ข้อมูลถัดไปของ Node ตัวใหม่คือ top ตัวเก่า\n",
    "        self.top = new_node # เปลี่ยนให้ top ชี้ที่ node ล่าสุดแทน\n"
   ]
  },
  {
   "cell_type": "markdown",
   "metadata": {},
   "source": [
    "# pop"
   ]
  },
  {
   "cell_type": "code",
   "execution_count": null,
   "metadata": {},
   "outputs": [],
   "source": [
    "class LinkListStack:\n",
    "    def __init__(self):\n",
    "        # สร้าง link list เป็นที่เก็บข้อมูลภายใน stack\n",
    "        self.top = None # top ชี้ที่ Node ด้านบนสุดของ stack (ตอนนี้ยังไม่มี)\n",
    "\n",
    "    def is_empty(self):\n",
    "        # ตรวจสอบว่า Stack ว่างหรือไม่ \n",
    "        return self.top is None # ถ้า top ไม่ได้ชี้ไปที่ Node หมายความว่า stack ว่าง\n",
    "\n",
    "    def pop(self):\n",
    "        # ลบและคืนค่าข้อมูลด้านบนสุดของ Stack\n",
    "        if self.is_empty():\n",
    "            print(\"Error: Stack is empty\")\n",
    "            return\n",
    "        data = self.top.data # เก็บข้อมูลด้านบนสุดเอาไว้ก่อน\n",
    "        self.top = self.top.link # เปลี่ยน top ให้ชี้ข้อมูลถัดลงมา\n",
    "        return data\n"
   ]
  },
  {
   "cell_type": "markdown",
   "metadata": {},
   "source": [
    "## peek หรือ Top"
   ]
  },
  {
   "cell_type": "code",
   "execution_count": null,
   "metadata": {},
   "outputs": [],
   "source": [
    "class LinkListStack:\n",
    "    def __init__(self):\n",
    "        # สร้าง link list เป็นที่เก็บข้อมูลภายใน stack\n",
    "        self.top = None # top ชี้ที่ Node ด้านบนสุดของ stack (ตอนนี้ยังไม่มี)\n",
    "\n",
    "    def is_empty(self):\n",
    "        # ตรวจสอบว่า Stack ว่างหรือไม่ \n",
    "        return self.top is None # ถ้า top ไม่ได้ชี้ไปที่ Node หมายความว่า stack ว่าง\n",
    "\n",
    "    def peek(self):\n",
    "        # ดูข้อมูลด้านบนสุดของ Stack โดยไม่ลบ\n",
    "        if self.is_empty():\n",
    "            print(\"Error: Stack is empty\")\n",
    "            return\n",
    "        return self.top.data\n",
    "    "
   ]
  },
  {
   "cell_type": "markdown",
   "metadata": {},
   "source": [
    "## print"
   ]
  },
  {
   "cell_type": "code",
   "execution_count": null,
   "metadata": {},
   "outputs": [],
   "source": [
    "class LinkListStack:\n",
    "    def __init__(self):\n",
    "        # สร้าง link list เป็นที่เก็บข้อมูลภายใน stack\n",
    "        self.top = None # top ชี้ที่ Node ด้านบนสุดของ stack (ตอนนี้ยังไม่มี)\n",
    "\n",
    "    def is_empty(self):\n",
    "        # ตรวจสอบว่า Stack ว่างหรือไม่ \n",
    "        return self.top is None # ถ้า top ไม่ได้ชี้ไปที่ Node หมายความว่า stack ว่าง\n",
    "\n",
    "    def print(self):\n",
    "        # แสดงข้อมูลทั้งหมดใน Stack\n",
    "        current = self.top\n",
    "        output = \"\"\n",
    "        while current:\n",
    "            output += str(current.data) + \", \"\n",
    "            current = current.link\n",
    "        print(f\"Stack: [{output[:-2]}]\")\n",
    "        \n"
   ]
  },
  {
   "cell_type": "markdown",
   "metadata": {},
   "source": [
    "## Example Use"
   ]
  },
  {
   "cell_type": "markdown",
   "metadata": {},
   "source": [
    "### Create Structure LinkedList Stack"
   ]
  },
  {
   "cell_type": "code",
   "execution_count": 5,
   "metadata": {},
   "outputs": [],
   "source": [
    "class Node :\n",
    "    def __init__(self, data):\n",
    "        # ข้อมูล\n",
    "        self.data = data\n",
    "        # ตัวถัดไป \n",
    "        self.link = None\n",
    "\n",
    "class LinkListStack:\n",
    "    def __init__(self):\n",
    "        # สร้าง link list เป็นที่เก็บข้อมูลภายใน stack\n",
    "        self.top = None # top ชี้ที่ Node ด้านบนสุดของ stack (ตอนนี้ยังไม่มี)\n",
    "\n",
    "    def is_empty(self):\n",
    "        # ตรวจสอบว่า Stack ว่างหรือไม่ \n",
    "        return self.top is None # ถ้า top ไม่ได้ชี้ไปที่ Node หมายความว่า stack ว่าง\n",
    "\n",
    "    def push(self, data):\n",
    "        new_node = Node(data) # สร้าง node ใหม่มาเก็บข้อมูล\n",
    "        new_node.link = self.top # ให้ข้อมูลถัดไปของ Node ตัวใหม่คือ top ตัวเก่า\n",
    "        self.top = new_node # เปลี่ยนให้ top ชี้ที่ node ล่าสุดแทน\n",
    "\n",
    "    def pop(self):\n",
    "        # ลบและคืนค่าข้อมูลด้านบนสุดของ Stack\n",
    "        if self.is_empty():\n",
    "            raise IndexError(\"Stack is empty\")\n",
    "        data = self.top.data # เก็บข้อมูลด้านบนสุดเอาไว้ก่อน\n",
    "        self.top = self.top.link # เปลี่ยน top ให้ชี้ข้อมูลถัดลงมา\n",
    "        return data\n",
    "\n",
    "    def peek(self):\n",
    "        # ดูข้อมูลด้านบนสุดของ Stack โดยไม่ลบ\n",
    "        if self.is_empty():\n",
    "            raise IndexError(\"Stack is empty\")\n",
    "        return self.top.data\n",
    "\n",
    "    def print(self):\n",
    "        # แสดงข้อมูลทั้งหมดใน Stack\n",
    "        current = self.top\n",
    "        output = \"\"\n",
    "        while current:\n",
    "            output += str(current.data) + \", \"\n",
    "            current = current.link\n",
    "        print(f\"Stack: [{output[:-2]}]\")"
   ]
  },
  {
   "cell_type": "code",
   "execution_count": 6,
   "metadata": {},
   "outputs": [
    {
     "name": "stdout",
     "output_type": "stream",
     "text": [
      "\n",
      "LinkedList Base Stack:\n",
      "Stack: [30, 20, 10]\n",
      "Peek: 30\n",
      "Pop: 30\n",
      "Stack: [20, 10]\n"
     ]
    }
   ],
   "source": [
    "if __name__ == \"__main__\":\n",
    "    # LinkedList Base Stack\n",
    "    print(\"\\nLinkedList Base Stack:\")\n",
    "    list_stack = LinkListStack()\n",
    "    list_stack.push(10)\n",
    "    list_stack.push(20)\n",
    "    list_stack.push(30)\n",
    "    list_stack.print()\n",
    "    print(\"Peek:\", list_stack.peek())\n",
    "    print(\"Pop:\", list_stack.pop())\n",
    "    list_stack.print()\n"
   ]
  }
 ],
 "metadata": {
  "kernelspec": {
   "display_name": "Python 3",
   "language": "python",
   "name": "python3"
  },
  "language_info": {
   "codemirror_mode": {
    "name": "ipython",
    "version": 3
   },
   "file_extension": ".py",
   "mimetype": "text/x-python",
   "name": "python",
   "nbconvert_exporter": "python",
   "pygments_lexer": "ipython3",
   "version": "3.12.8"
  }
 },
 "nbformat": 4,
 "nbformat_minor": 2
}
