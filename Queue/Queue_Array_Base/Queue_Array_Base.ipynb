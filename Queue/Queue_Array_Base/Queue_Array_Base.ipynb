{
 "cells": [
  {
   "cell_type": "markdown",
   "metadata": {},
   "source": [
    "## Queue (Array Base)"
   ]
  },
  {
   "cell_type": "code",
   "execution_count": null,
   "metadata": {},
   "outputs": [],
   "source": [
    "class ArrayQueue:\n",
    "    def __init__(self, capacity):\n",
    "        # กำหนดความจุสูงสุดของคิว\n",
    "        self.capacity = capacity\n",
    "        self.queue = [None] * capacity  # สร้างอาร์เรย์ขนาด fixed\n",
    "        self.front = 0  # ตำแหน่งของโหนดแรก\n",
    "        self.rear = -1  # ตำแหน่งของโหนดสุดท้าย\n",
    "        self.size = 0  # จำนวนองค์ประกอบในคิว"
   ]
  },
  {
   "cell_type": "markdown",
   "metadata": {},
   "source": [
    "## is empty"
   ]
  },
  {
   "cell_type": "code",
   "execution_count": 1,
   "metadata": {},
   "outputs": [],
   "source": [
    "class ArrayQueue:\n",
    "    def __init__(self, capacity):\n",
    "        # กำหนดความจุสูงสุดของคิว\n",
    "        self.capacity = capacity\n",
    "        self.queue = [None] * capacity  # สร้างอาร์เรย์ขนาด fixed\n",
    "        self.front = 0  # ตำแหน่งของโหนดแรก\n",
    "        self.rear = -1  # ตำแหน่งของโหนดสุดท้าย\n",
    "        self.size = 0  # จำนวนองค์ประกอบในคิว\n",
    "\n",
    "    def is_empty(self):\n",
    "        return self.size == 0  # ตรวจสอบว่าคิวว่างหรือไม่"
   ]
  },
  {
   "cell_type": "markdown",
   "metadata": {},
   "source": [
    "## is full"
   ]
  },
  {
   "cell_type": "code",
   "execution_count": 2,
   "metadata": {},
   "outputs": [],
   "source": [
    "class ArrayQueue:\n",
    "    def __init__(self, capacity):\n",
    "        # กำหนดความจุสูงสุดของคิว\n",
    "        self.capacity = capacity\n",
    "        self.queue = [None] * capacity  # สร้างอาร์เรย์ขนาด fixed\n",
    "        self.front = 0  # ตำแหน่งของโหนดแรก\n",
    "        self.rear = -1  # ตำแหน่งของโหนดสุดท้าย\n",
    "        self.size = 0  # จำนวนองค์ประกอบในคิว\n",
    "\n",
    "    def is_full(self):\n",
    "        return self.size == self.capacity  # ตรวจสอบว่าคิวเต็มหรือไม่\n"
   ]
  },
  {
   "cell_type": "markdown",
   "metadata": {},
   "source": [
    "## enqueue"
   ]
  },
  {
   "cell_type": "code",
   "execution_count": 3,
   "metadata": {},
   "outputs": [],
   "source": [
    "class ArrayQueue:\n",
    "    def __init__(self, capacity):\n",
    "        # กำหนดความจุสูงสุดของคิว\n",
    "        self.capacity = capacity\n",
    "        self.queue = [None] * capacity  # สร้างอาร์เรย์ขนาด fixed\n",
    "        self.front = 0  # ตำแหน่งของโหนดแรก\n",
    "        self.rear = -1  # ตำแหน่งของโหนดสุดท้าย\n",
    "        self.size = 0  # จำนวนองค์ประกอบในคิว\n",
    "\n",
    "    def enqueue(self, data):\n",
    "        if self.is_full():\n",
    "            raise OverflowError(\"Queue is full\")\n",
    "        self.rear = (self.rear + 1) % self.capacity  # ตำแหน่ง rear แบบหมุนวน\n",
    "        self.queue[self.rear] = data\n",
    "        self.size += 1\n",
    "        "
   ]
  },
  {
   "cell_type": "markdown",
   "metadata": {},
   "source": [
    "## dequeue"
   ]
  },
  {
   "cell_type": "code",
   "execution_count": 4,
   "metadata": {},
   "outputs": [],
   "source": [
    "class ArrayQueue:\n",
    "    def __init__(self, capacity):\n",
    "        # กำหนดความจุสูงสุดของคิว\n",
    "        self.capacity = capacity\n",
    "        self.queue = [None] * capacity  # สร้างอาร์เรย์ขนาด fixed\n",
    "        self.front = 0  # ตำแหน่งของโหนดแรก\n",
    "        self.rear = -1  # ตำแหน่งของโหนดสุดท้าย\n",
    "        self.size = 0  # จำนวนองค์ประกอบในคิว\n",
    "\n",
    "    def dequeue(self):\n",
    "        if self.is_empty():\n",
    "            raise IndexError(\"Queue is empty\")\n",
    "        data = self.queue[self.front]\n",
    "        self.queue[self.front] = None  # เคลียร์ตำแหน่ง front\n",
    "        self.front = (self.front + 1) % self.capacity  # ตำแหน่ง front แบบหมุนวน\n",
    "        self.size -= 1\n",
    "        return data\n"
   ]
  },
  {
   "cell_type": "markdown",
   "metadata": {},
   "source": [
    "## front queue"
   ]
  },
  {
   "cell_type": "code",
   "execution_count": null,
   "metadata": {},
   "outputs": [],
   "source": [
    "class ArrayQueue:\n",
    "    def __init__(self, capacity):\n",
    "        # กำหนดความจุสูงสุดของคิว\n",
    "        self.capacity = capacity\n",
    "        self.queue = [None] * capacity  # สร้างอาร์เรย์ขนาด fixed\n",
    "        self.front = 0  # ตำแหน่งของโหนดแรก\n",
    "        self.rear = -1  # ตำแหน่งของโหนดสุดท้าย\n",
    "        self.size = 0  # จำนวนองค์ประกอบในคิว\n",
    "\n",
    "    def front_queue(self):\n",
    "        if self.is_empty():\n",
    "            raise IndexError(\"Queue is empty\")\n",
    "        return self.queue[self.front]\n"
   ]
  },
  {
   "cell_type": "markdown",
   "metadata": {},
   "source": [
    "## rear queue"
   ]
  },
  {
   "cell_type": "code",
   "execution_count": 6,
   "metadata": {},
   "outputs": [],
   "source": [
    "class ArrayQueue:\n",
    "    def __init__(self, capacity):\n",
    "        # กำหนดความจุสูงสุดของคิว\n",
    "        self.capacity = capacity\n",
    "        self.queue = [None] * capacity  # สร้างอาร์เรย์ขนาด fixed\n",
    "        self.front = 0  # ตำแหน่งของโหนดแรก\n",
    "        self.rear = -1  # ตำแหน่งของโหนดสุดท้าย\n",
    "        self.size = 0  # จำนวนองค์ประกอบในคิว\n",
    "\n",
    "    def rear_queue(self):\n",
    "        if self.is_empty():\n",
    "            raise IndexError(\"Queue is empty\")\n",
    "        return self.queue[self.rear]\n"
   ]
  },
  {
   "cell_type": "markdown",
   "metadata": {},
   "source": [
    "## print"
   ]
  },
  {
   "cell_type": "code",
   "execution_count": 11,
   "metadata": {},
   "outputs": [],
   "source": [
    "class ArrayQueue:\n",
    "    def __init__(self, capacity):\n",
    "        # กำหนดความจุสูงสุดของคิว\n",
    "        self.capacity = capacity\n",
    "        self.queue = [None] * capacity  # สร้างอาร์เรย์ขนาด fixed\n",
    "        self.front = 0  # ตำแหน่งของโหนดแรก\n",
    "        self.rear = -1  # ตำแหน่งของโหนดสุดท้าย\n",
    "        self.size = 0  # จำนวนองค์ประกอบในคิว\n",
    "        \n",
    "    def print(self):\n",
    "        print(\"Queue:\", [self.queue[(self.front + i) % self.capacity] for i in range(self.size)])\n"
   ]
  },
  {
   "cell_type": "markdown",
   "metadata": {},
   "source": [
    "## Example Use"
   ]
  },
  {
   "cell_type": "markdown",
   "metadata": {},
   "source": [
    "### Create Structure Queue Array"
   ]
  },
  {
   "cell_type": "code",
   "execution_count": 12,
   "metadata": {},
   "outputs": [],
   "source": [
    "class ArrayQueue:\n",
    "    def __init__(self, capacity):\n",
    "        # กำหนดความจุสูงสุดของคิว\n",
    "        self.capacity = capacity\n",
    "        self.queue = [None] * capacity  # สร้างอาร์เรย์ขนาด fixed\n",
    "        self.front = 0  # ตำแหน่งของโหนดแรก\n",
    "        self.rear = -1  # ตำแหน่งของโหนดสุดท้าย\n",
    "        self.size = 0  # จำนวนองค์ประกอบในคิว\n",
    "\n",
    "    def is_empty(self):\n",
    "        return self.size == 0  # ตรวจสอบว่าคิวว่างหรือไม่\n",
    "\n",
    "    def is_full(self):\n",
    "        return self.size == self.capacity  # ตรวจสอบว่าคิวเต็มหรือไม่\n",
    "\n",
    "    def enqueue(self, data):\n",
    "        if self.is_full():\n",
    "            raise OverflowError(\"Queue is full\")\n",
    "        self.rear = (self.rear + 1) % self.capacity  # ตำแหน่ง rear แบบหมุนวน\n",
    "        self.queue[self.rear] = data\n",
    "        self.size += 1\n",
    "\n",
    "    def dequeue(self):\n",
    "        if self.is_empty():\n",
    "            raise IndexError(\"Queue is empty\")\n",
    "        data = self.queue[self.front]\n",
    "        self.queue[self.front] = None  # เคลียร์ตำแหน่ง front\n",
    "        self.front = (self.front + 1) % self.capacity  # ตำแหน่ง front แบบหมุนวน\n",
    "        self.size -= 1\n",
    "        return data\n",
    "\n",
    "    def front_queue(self):\n",
    "        if self.is_empty():\n",
    "            raise IndexError(\"Queue is empty\")\n",
    "        return self.queue[self.front]\n",
    "\n",
    "    def rear_queue(self):\n",
    "        if self.is_empty():\n",
    "            raise IndexError(\"Queue is empty\")\n",
    "        return self.queue[self.rear]\n",
    "\n",
    "    def print(self):\n",
    "        print(\"Queue:\", [self.queue[(self.front + i) % self.capacity] for i in range(self.size)])\n"
   ]
  },
  {
   "cell_type": "code",
   "execution_count": 14,
   "metadata": {},
   "outputs": [
    {
     "name": "stdout",
     "output_type": "stream",
     "text": [
      "Array Base Queue:\n",
      "Queue: [10, 20, 30]\n",
      "Front: 10\n",
      "Rear: 30\n",
      "Queue: [20, 30]\n"
     ]
    }
   ],
   "source": [
    "if __name__ == \"__main__\":\n",
    "    # Array Base Queue\n",
    "    print(\"Array Base Queue:\")\n",
    "    array_queue = ArrayQueue(5)\n",
    "    array_queue.enqueue(10)\n",
    "    array_queue.enqueue(20)\n",
    "    array_queue.enqueue(30)\n",
    "    array_queue.print()\n",
    "    print(\"Front:\", array_queue.front_queue())\n",
    "    print(\"Rear:\", array_queue.rear_queue())\n",
    "    array_queue.dequeue()\n",
    "    array_queue.print()"
   ]
  },
  {
   "cell_type": "code",
   "execution_count": null,
   "metadata": {},
   "outputs": [],
   "source": []
  }
 ],
 "metadata": {
  "kernelspec": {
   "display_name": "base",
   "language": "python",
   "name": "python3"
  },
  "language_info": {
   "codemirror_mode": {
    "name": "ipython",
    "version": 3
   },
   "file_extension": ".py",
   "mimetype": "text/x-python",
   "name": "python",
   "nbconvert_exporter": "python",
   "pygments_lexer": "ipython3",
   "version": "3.12.3"
  }
 },
 "nbformat": 4,
 "nbformat_minor": 2
}
