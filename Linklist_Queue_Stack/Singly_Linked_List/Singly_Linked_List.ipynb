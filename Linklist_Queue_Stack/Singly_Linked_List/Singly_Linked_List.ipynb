{
 "cells": [
  {
   "cell_type": "markdown",
   "metadata": {},
   "source": [
    "## Linked list"
   ]
  },
  {
   "cell_type": "markdown",
   "metadata": {},
   "source": [
    "### Create Node\n",
    "![image.png](./image/Node.png)"
   ]
  },
  {
   "cell_type": "code",
   "execution_count": 8,
   "metadata": {},
   "outputs": [],
   "source": [
    "class Node :\n",
    "    pass"
   ]
  },
  {
   "cell_type": "markdown",
   "metadata": {},
   "source": [
    "![image.png](./image/Node_Data_Link.png)"
   ]
  },
  {
   "cell_type": "code",
   "execution_count": 17,
   "metadata": {},
   "outputs": [],
   "source": [
    "class Node :\n",
    "    def __init__(self , data):\n",
    "        # ข้อมูล\n",
    "        self.data = data\n",
    "        # ตัวถัดไป \n",
    "        self.link = None"
   ]
  },
  {
   "cell_type": "markdown",
   "metadata": {},
   "source": [
    "### Singly Linked List"
   ]
  },
  {
   "cell_type": "code",
   "execution_count": null,
   "metadata": {},
   "outputs": [],
   "source": [
    "class SinglyLinkedList :\n",
    "    def __init__(self):\n",
    "        # ข้อมูลของ Linklist\n",
    "        self.head = None"
   ]
  },
  {
   "cell_type": "markdown",
   "metadata": {},
   "source": [
    "#### is empty"
   ]
  },
  {
   "cell_type": "code",
   "execution_count": 11,
   "metadata": {},
   "outputs": [],
   "source": [
    "class SinglyLinkedList :\n",
    "    def __init__(self):\n",
    "        self.head = None\n",
    "\n",
    "    def is_empty(self):\n",
    "        # เช็คว่า Linklist เท่ากัย None ไหมถ้าเท่ากับแสดงว่าไม่มี Node\n",
    "        return self.head is None"
   ]
  },
  {
   "cell_type": "markdown",
   "metadata": {},
   "source": [
    "#### append Linklist"
   ]
  },
  {
   "cell_type": "code",
   "execution_count": 12,
   "metadata": {},
   "outputs": [],
   "source": [
    "class SinglyLinkedList :\n",
    "    def __init__(self):\n",
    "        self.head = None\n",
    "    \n",
    "    def append_list(self , data):\n",
    "        # สร้าง Node ใหม่ขึ้นมาก่อน\n",
    "        new_node = Node(data)\n",
    "        # เช็คดูว่าตัวสุดท้ายของ Linklist เป็น None ไหม\n",
    "        if self.head is None:\n",
    "            # ถ้าเป็นก็ให้ชี้หา new_node\n",
    "            self.head = new_node\n",
    "        else:\n",
    "            # ในกรณีที่ตัวสุดท้ายไม่เท่ากับ None\n",
    "            current = self.head\n",
    "            # ก็จะเรียกจนกว่าจะเป็น None\n",
    "            while current.link:\n",
    "                # โดยที่จะเรียก Node ตัวถัดไป\n",
    "                current = current.link\n",
    "                # แล้วให้ Node ถัดไปชี้ไปหา new_node\n",
    "                current.link = new_node"
   ]
  },
  {
   "cell_type": "markdown",
   "metadata": {},
   "source": [
    "### prepend Linklist"
   ]
  },
  {
   "cell_type": "code",
   "execution_count": 13,
   "metadata": {},
   "outputs": [],
   "source": [
    "class SinglyLinkedList :\n",
    "    def __init__(self):\n",
    "        self.head = None\n",
    "    \n",
    "    def prepend(self, data):\n",
    "        # สร้าง new_node ใหม่ขึ้นมา\n",
    "        new_node = Node(data)\n",
    "        # แล้วให้ Node ใหม่ชี้หา LinkList\n",
    "        # แสดงว่า new_node ก็จะชี้หาทั้งก้อนเลยอะดิ\n",
    "        new_node.link = self.head\n",
    "        # แล้วสุดท้ายก็ให้ ทั้งก้อนเป็น new_node\n",
    "        self.head = new_node"
   ]
  },
  {
   "cell_type": "markdown",
   "metadata": {},
   "source": [
    "### Delete Node"
   ]
  },
  {
   "cell_type": "code",
   "execution_count": 14,
   "metadata": {},
   "outputs": [],
   "source": [
    "class SinglyLinkedList :\n",
    "    def __init__(self):\n",
    "        self.head = None\n",
    "    \n",
    "        def delete_data(self, data):\n",
    "            # เงื่อนไขแรกที่จะดูคือถ้า ใน linked list ตัวแรกเป็น None\n",
    "            if self.head is None:\n",
    "                # ให้แสดงว่า \"List is empty. Nothing to delete.\"\n",
    "                print(\"List is empty. Nothing to delete.\")\n",
    "                # แล้ว Return ออกไป\n",
    "                return\n",
    "\n",
    "            # ถ้าเจอ Node ตัวแรกเท่ากับ data\n",
    "            if self.head.data == data:\n",
    "                # ก็ให้ตัวแรกเท่ากับ node ตัวถัดไปเลย\n",
    "                self.head = self.head.link\n",
    "                return\n",
    "\n",
    "            # ถ้าตัวแรกไม่ใช่ Data ที่ตามหาก็ให้ Node ตัวแรกเป็นตัวล่าสุด\n",
    "            current = self.head\n",
    "            # แล้วก็วนหา Node ที่มี Data ตรงกับที่ต้องการ\n",
    "            while current.link and current.link.data != data:\n",
    "                # ตัวถัดไปไม่ใช่ None หรือ ถ้าไม่เจอว่า Node ถับไปค่าที่ตา่มหาไหม ให้เลือกตัวถัดไปเป็นตัวล่าสุด\n",
    "                current = current.link\n",
    "\n",
    "            # เมื่อวนครบแล้วให้มาตรวจสอบว่าตัวถัดไปของ Node นั้นเป็น None ไหม\n",
    "            if current.link is None:\n",
    "                # ถ้าเป็น แสดงว่าหาไม่เจอก็เลยให้แสดง \"Data not found in the list.\"\n",
    "                print(\"Data not found in the list.\")\n",
    "            else:\n",
    "                # ถ้าไม่ใช่ None แสดงว่ายังมี Node ถัดไปเราก็เลยจะเปลี่ยนเส้นทางโดยที่ข้าม Node นี้ไป\n",
    "                current.link = current.link.link"
   ]
  },
  {
   "cell_type": "markdown",
   "metadata": {},
   "source": [
    "### Search Linklist"
   ]
  },
  {
   "cell_type": "code",
   "execution_count": 15,
   "metadata": {},
   "outputs": [],
   "source": [
    "class SinglyLinkedList :\n",
    "    def __init__(self):\n",
    "        self.head = None\n",
    "    \n",
    "    def search(self, data):\n",
    "        # เรียก Node ใน linklist มา\n",
    "        current = self.head\n",
    "        # เราจะดูว่าเป็น None ไหม\n",
    "        while current:\n",
    "            # ถ้า Node ตัวที่เรียกมาเท่ากับ Data ตัวที่เราจะหา\n",
    "            if current.data == data:\n",
    "                # ให้ Return True (หาเจอ)\n",
    "                return True\n",
    "            # ถ้าไม่เจอก็ให้หา Node ถัดไป\n",
    "            current = current.link\n",
    "        # ถ้าหาไปจน Node เป็น None ก็ Return False (หาไม่เจอ)\n",
    "        return False"
   ]
  },
  {
   "cell_type": "markdown",
   "metadata": {},
   "source": [
    "### Print Linklist"
   ]
  },
  {
   "cell_type": "code",
   "execution_count": 16,
   "metadata": {},
   "outputs": [],
   "source": [
    "class SinglyLinkedList :\n",
    "    def __init__(self):\n",
    "        self.head = None\n",
    "    \n",
    "    def printlinklist(self):\n",
    "        # เงื่อนไขแรกที่จะดูคือถ้า ใน linked list ตัวแรกเป็น None\n",
    "        if self.head is None:\n",
    "            # ให้แสดงว่า \"List is empty\"\n",
    "            print(\"List is empty.\")\n",
    "            # แล้ว Return ออกไป\n",
    "            return\n",
    "        # ถ้า linked list ตัวแรกไม่เป็น None แสดงว่ามี Node\n",
    "        current = self.head\n",
    "        # เรียก Node ออกมา\n",
    "        while current:\n",
    "            # ให้แสดงค่าใน Node\n",
    "            print(current.data, end=\" -> \")\n",
    "            # แล้วเรียก Node ถัดไป\n",
    "            current = current.link\n",
    "        # ถ้า Node ถึงตัวสุดท้ายก็ให้แสดงค่าออกมา None มาด้วย\n",
    "        print(\"None\")"
   ]
  },
  {
   "cell_type": "markdown",
   "metadata": {},
   "source": [
    "#### Example Use"
   ]
  },
  {
   "cell_type": "markdown",
   "metadata": {},
   "source": [
    "##### Create Structure Singly Linklist"
   ]
  },
  {
   "cell_type": "code",
   "execution_count": 19,
   "metadata": {},
   "outputs": [],
   "source": [
    "class Node:\n",
    "    def __init__(self, data):\n",
    "        self.data = data\n",
    "        self.link = None\n",
    "\n",
    "class SinglyLinkedList:\n",
    "\n",
    "    def __init__(self):\n",
    "        self.head = None\n",
    "\n",
    "    def is_empty(self):\n",
    "        return self.head is None\n",
    "\n",
    "    def append(self, data):\n",
    "        new_node = Node(data)\n",
    "        if self.head is None:\n",
    "            self.head = new_node\n",
    "        else:\n",
    "            current = self.head\n",
    "            while current.link:\n",
    "                current = current.link\n",
    "            current.link = new_node\n",
    "\n",
    "    def prepend(self, data):\n",
    "        new_node = Node(data)\n",
    "        new_node.link = self.head\n",
    "        self.head = new_node\n",
    "\n",
    "    def delete(self, data):\n",
    "        if self.head is None:\n",
    "            print(\"List is empty. Nothing to delete.\")\n",
    "            return\n",
    "\n",
    "        if self.head.data == data:\n",
    "            self.head = self.head.link\n",
    "            return\n",
    "\n",
    "        current = self.head\n",
    "        while current.link and current.link.data != data:\n",
    "            current = current.link\n",
    "\n",
    "        if current.link is None:\n",
    "            print(\"Data not found in the list.\")\n",
    "        else:\n",
    "            current.link = current.link.link\n",
    "\n",
    "    def search(self, data):\n",
    "        current = self.head\n",
    "        while current:\n",
    "            if current.data == data:\n",
    "                return True\n",
    "            current = current.link\n",
    "        return False\n",
    "\n",
    "    def printlinklist(self):\n",
    "        if self.head is None:\n",
    "            print(\"List is empty.\")\n",
    "            return\n",
    "        current = self.head\n",
    "        while current:\n",
    "            print(current.data, end=\" -> \")\n",
    "            current = current.link\n",
    "        print(\"None\")"
   ]
  },
  {
   "cell_type": "code",
   "execution_count": 20,
   "metadata": {},
   "outputs": [
    {
     "name": "stdout",
     "output_type": "stream",
     "text": [
      "After appending elements:\n",
      "10 -> 20 -> 30 -> None\n",
      "After prepending an element:\n",
      "5 -> 10 -> 20 -> 30 -> None\n",
      "Searching for 20: True\n",
      "Searching for 40: False\n",
      "After deleting 20:\n",
      "5 -> 10 -> 30 -> None\n",
      "Data not found in the list.\n",
      "After deleting head:\n",
      "10 -> 30 -> None\n"
     ]
    }
   ],
   "source": [
    "if __name__ == \"__main__\":\n",
    "    sll = SinglyLinkedList()\n",
    "\n",
    "    # Appending elements\n",
    "    sll.append(10)\n",
    "    sll.append(20)\n",
    "    sll.append(30)\n",
    "    print(\"After appending elements:\")\n",
    "    sll.printlinklist()\n",
    "\n",
    "    # Prepending an element\n",
    "    sll.prepend(5)\n",
    "    print(\"After prepending an element:\")\n",
    "    sll.printlinklist()\n",
    "\n",
    "    # Searching for an element\n",
    "    print(\"Searching for 20:\", sll.search(20))\n",
    "    print(\"Searching for 40:\", sll.search(40))\n",
    "\n",
    "    # Deleting an element\n",
    "    sll.delete(20)\n",
    "    print(\"After deleting 20:\")\n",
    "    sll.printlinklist()\n",
    "\n",
    "    # Deleting a non-existent element\n",
    "    sll.delete(40)\n",
    "\n",
    "    # Deleting head\n",
    "    sll.delete(5)\n",
    "    print(\"After deleting head:\")\n",
    "    sll.printlinklist()"
   ]
  }
 ],
 "metadata": {
  "kernelspec": {
   "display_name": "base",
   "language": "python",
   "name": "python3"
  },
  "language_info": {
   "codemirror_mode": {
    "name": "ipython",
    "version": 3
   },
   "file_extension": ".py",
   "mimetype": "text/x-python",
   "name": "python",
   "nbconvert_exporter": "python",
   "pygments_lexer": "ipython3",
   "version": "3.12.3"
  }
 },
 "nbformat": 4,
 "nbformat_minor": 2
}
