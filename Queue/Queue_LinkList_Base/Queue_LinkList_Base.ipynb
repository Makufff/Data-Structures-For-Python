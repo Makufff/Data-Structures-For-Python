{
 "cells": [
  {
   "cell_type": "markdown",
   "metadata": {},
   "source": [
    "## Queue (LinkList Base)"
   ]
  },
  {
   "cell_type": "markdown",
   "metadata": {},
   "source": [
    "### Create Node\n",
    "![image.png](./image/Node.png)"
   ]
  },
  {
   "cell_type": "code",
   "execution_count": null,
   "metadata": {},
   "outputs": [],
   "source": [
    "class Node :\n",
    "    pass"
   ]
  },
  {
   "cell_type": "markdown",
   "metadata": {},
   "source": [
    "![image.png](./image/Node_Data_Next.png)"
   ]
  },
  {
   "cell_type": "code",
   "execution_count": 3,
   "metadata": {},
   "outputs": [],
   "source": [
    "class Node :\n",
    "    def __init__(self, data):\n",
    "        # ข้อมูล\n",
    "        self.data = data\n",
    "        # Node ถัดไป\n",
    "        self.next = None\n",
    "        # Node ก่อนหน้า\n",
    "        self.prev = None    "
   ]
  },
  {
   "cell_type": "markdown",
   "metadata": {},
   "source": [
    "## Create Queue"
   ]
  },
  {
   "cell_type": "code",
   "execution_count": null,
   "metadata": {},
   "outputs": [],
   "source": [
    "class Queue:\n",
    "    def __init__(self):\n",
    "        self.front = None # ด้านหน้าของ queue\n",
    "        self.rear = None # ด้านหลังของ queue\n",
    "        self.size = 0 # ขนาดของ queue"
   ]
  },
  {
   "cell_type": "markdown",
   "metadata": {},
   "source": [
    "## is empty"
   ]
  },
  {
   "cell_type": "code",
   "execution_count": null,
   "metadata": {},
   "outputs": [],
   "source": [
    "class Queue:\n",
    "    def __init__(self):\n",
    "        self.front = None # ด้านหน้าของ queue\n",
    "        self.rear = None # ด้านหลังของ queue\n",
    "        self.size = 0 # ขนาดของ queue\n",
    "    \n",
    "    def is_empty(self):\n",
    "        return self.size == 0 #ตรวจสอบว่า queue ว่างหรือไม่"
   ]
  },
  {
   "cell_type": "markdown",
   "metadata": {},
   "source": [
    "## enqueue"
   ]
  },
  {
   "cell_type": "code",
   "execution_count": null,
   "metadata": {},
   "outputs": [],
   "source": [
    "class Queue:\n",
    "    def __init__(self):\n",
    "        self.front = None # ด้านหน้าของ queue\n",
    "        self.rear = None # ด้านหลังของ queue\n",
    "        self.size = 0 # ขนาดของ queue\n",
    "\n",
    "    def enqueue(self,data):\n",
    "        # สร้าง node ใหม่ขึ้นมา\n",
    "        new_node = Node(data)\n",
    "        # ตรวจสอบว่า queue ว่างอยู่หรือไม่\n",
    "        if self.is_empty():\n",
    "            # ถ้าว่าง กำหนดให้ด้านหน้าและหลังของ queue เป็น node ใหม่\n",
    "            self.front = new_node\n",
    "            self.rear = new_node\n",
    "        else:\n",
    "            # ถ้าไม่ว่าง เปลี่ยนตัวต่อไปของตัวสุดท้ายให้เป็น node ใหม่\n",
    "            self.rear.next = new_node\n",
    "            # เปลี่ยนตัวก่อนหน้าของ node ใหม่ ให้เป็น node ตัวสุดท้ายของ queue\n",
    "            new_node.prev = self.rear\n",
    "            # เปลี่ยนตัวสุดท้ายของ queue ให้เป็นตัวใหม่\n",
    "            self.rear = self.rear.next\n",
    "        self.size+=1 # เพิ่มขนาดปัจจุบันของ queue"
   ]
  },
  {
   "cell_type": "markdown",
   "metadata": {},
   "source": [
    "## dequeue"
   ]
  },
  {
   "cell_type": "code",
   "execution_count": null,
   "metadata": {},
   "outputs": [],
   "source": [
    "class Queue:\n",
    "    def __init__(self):\n",
    "        self.front = None # ด้านหน้าของ queue\n",
    "        self.rear = None # ด้านหลังของ queue\n",
    "        self.size = 0 # ขนาดของ queue\n",
    "    \n",
    "    def dequeue(self):\n",
    "        if self.is_empty():\n",
    "            raise IndexError(\"Queue is empty\")\n",
    "        data = self.front.data\n",
    "        # เปลี่ยน front ของ queue ให้กลายเป็นตัวที่ 2\n",
    "        self.front = self.front.next\n",
    "        if self.front:\n",
    "        # เปลี่ยน prev ของ front ให้กลายเป็น None ถ้า front ยังมีอยู่\n",
    "            self.front.prev = None\n",
    "        self.size-=1 # ลดขนาดปัจจุบันของ \n",
    "        return data"
   ]
  },
  {
   "cell_type": "markdown",
   "metadata": {},
   "source": [
    "## front queue"
   ]
  },
  {
   "cell_type": "code",
   "execution_count": null,
   "metadata": {},
   "outputs": [],
   "source": [
    "class Queue:\n",
    "    def __init__(self):\n",
    "        self.front = None # ด้านหน้าของ queue\n",
    "        self.rear = None # ด้านหลังของ queue\n",
    "        self.size = 0 # ขนาดของ queue\n",
    "    \n",
    "    def front_queue(self):\n",
    "        if self.is_empty():\n",
    "            raise IndexError(\"Queue is empty\")\n",
    "        else:\n",
    "            return self.front.data"
   ]
  },
  {
   "cell_type": "markdown",
   "metadata": {},
   "source": [
    "## rear queue"
   ]
  },
  {
   "cell_type": "code",
   "execution_count": null,
   "metadata": {},
   "outputs": [],
   "source": [
    "class Queue:\n",
    "    def __init__(self):\n",
    "        self.front = None # ด้านหน้าของ queue\n",
    "        self.rear = None # ด้านหลังของ queue\n",
    "        self.size = 0 # ขนาดของ \n",
    "    \n",
    "    def rear_queue(self):\n",
    "        if self.is_empty():\n",
    "            raise IndexError(\"Queue is empty\")\n",
    "        else:\n",
    "            return self.rear.data"
   ]
  },
  {
   "cell_type": "markdown",
   "metadata": {},
   "source": [
    "## print"
   ]
  },
  {
   "cell_type": "code",
   "execution_count": 6,
   "metadata": {},
   "outputs": [],
   "source": [
    "class Queue:\n",
    "    def __init__(self):\n",
    "        self.front = None # ด้านหน้าของ queue\n",
    "        self.rear = None # ด้านหลังของ queue\n",
    "        self.size = 0 # ขนาดของ queue\n",
    "    \n",
    "    def print(self):\n",
    "        current = self.front\n",
    "        output = \"\"\n",
    "        while current:\n",
    "            output += str(current.data) + \", \"\n",
    "            current = current.next\n",
    "        print(f\"Queue: [{output[:-2]}]\")"
   ]
  },
  {
   "cell_type": "markdown",
   "metadata": {},
   "source": [
    "## Example use"
   ]
  },
  {
   "cell_type": "markdown",
   "metadata": {},
   "source": [
    "### create queue structure"
   ]
  },
  {
   "cell_type": "code",
   "execution_count": 9,
   "metadata": {},
   "outputs": [],
   "source": [
    "class Node :\n",
    "    def __init__(self, data):\n",
    "        # ข้อมูล\n",
    "        self.data = data\n",
    "        # Node ถัดไป\n",
    "        self.next = None\n",
    "        # Node ก่อนหน้า\n",
    "        self.prev = None\n",
    "\n",
    "class LinkListQueue:\n",
    "    def __init__(self):\n",
    "        self.front = None # ด้านหน้าของ queue\n",
    "        self.rear = None # ด้านหลังของ queue\n",
    "        self.size = 0 # ขนาดของ queue\n",
    "    \n",
    "    def is_empty(self):\n",
    "        return self.size == 0 #ตรวจสอบว่า queue ว่างหรือไม่\n",
    "\n",
    "    def enqueue(self,data):\n",
    "        # สร้าง node ใหม่ขึ้นมา\n",
    "        new_node = Node(data)\n",
    "        # ตรวจสอบว่า queue ว่างอยู่หรือไม่\n",
    "        if self.is_empty():\n",
    "            # ถ้าว่าง กำหนดให้ด้านหน้าและหลังของ queue เป็น node ใหม่\n",
    "            self.front = new_node\n",
    "            self.rear = new_node\n",
    "        else:\n",
    "            # ถ้าไม่ว่าง เปลี่ยนตัวต่อไปของตัวสุดท้ายให้เป็น node ใหม่\n",
    "            self.rear.next = new_node\n",
    "            # เปลี่ยนตัวก่อนหน้าของ node ใหม่ ให้เป็น node ตัวสุดท้ายของ queue\n",
    "            new_node.prev = self.rear\n",
    "            # เปลี่ยนตัวสุดท้ายของ queue ให้เป็นตัวใหม่\n",
    "            self.rear = self.rear.next\n",
    "        self.size+=1 # เพิ่มขนาดปัจจุบันของ queue\n",
    "    \n",
    "    def dequeue(self):\n",
    "        if self.is_empty():\n",
    "            raise IndexError(\"Queue is empty\")\n",
    "        data = self.front.data\n",
    "        # เปลี่ยน front ของ queue ให้กลายเป็นตัวที่ 2\n",
    "        self.front = self.front.next\n",
    "        if self.front:\n",
    "        # เปลี่ยน prev ของ front ให้กลายเป็น None ถ้า front ยังมีอยู่\n",
    "            self.front.prev = None\n",
    "        self.size-=1 # ลดขนาดปัจจุบันของ \n",
    "        return data\n",
    "    \n",
    "    def front_queue(self):\n",
    "        if self.is_empty():\n",
    "            raise IndexError(\"Queue is empty\")\n",
    "        else:\n",
    "            return self.front.data\n",
    "    \n",
    "    def rear_queue(self):\n",
    "        if self.is_empty():\n",
    "            raise IndexError(\"Queue is empty\")\n",
    "        else:\n",
    "            return self.rear.data\n",
    "    \n",
    "    def print(self):\n",
    "        current = self.front\n",
    "        output = \"\"\n",
    "        while current:\n",
    "            output += str(current.data) + \", \"\n",
    "            current = current.next\n",
    "        print(f\"Queue: [{output[:-2]}]\")\n"
   ]
  },
  {
   "cell_type": "code",
   "execution_count": 10,
   "metadata": {},
   "outputs": [
    {
     "name": "stdout",
     "output_type": "stream",
     "text": [
      "\n",
      "Link List Base Queue:\n",
      "Queue: [4, 5, 6]\n",
      "Front: 4\n",
      "Rear: 6\n",
      "Queue: [5, 6]\n"
     ]
    }
   ],
   "source": [
    "if __name__ == \"__main__\":\n",
    "    # LinkList Base Queue\n",
    "    print(\"\\nLink List Base Queue:\")\n",
    "    list_queue = LinkListQueue()\n",
    "    list_queue.enqueue(4)\n",
    "    list_queue.enqueue(5)\n",
    "    list_queue.enqueue(6)\n",
    "    list_queue.print()\n",
    "    print(\"Front:\", list_queue.front_queue())\n",
    "    print(\"Rear:\", list_queue.rear_queue())\n",
    "    list_queue.dequeue()\n",
    "    list_queue.print()\n"
   ]
  }
 ],
 "metadata": {
  "kernelspec": {
   "display_name": "Python 3",
   "language": "python",
   "name": "python3"
  },
  "language_info": {
   "codemirror_mode": {
    "name": "ipython",
    "version": 3
   },
   "file_extension": ".py",
   "mimetype": "text/x-python",
   "name": "python",
   "nbconvert_exporter": "python",
   "pygments_lexer": "ipython3",
   "version": "3.12.8"
  }
 },
 "nbformat": 4,
 "nbformat_minor": 2
}
