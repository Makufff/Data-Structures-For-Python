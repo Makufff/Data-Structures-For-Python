{
 "cells": [
  {
   "cell_type": "markdown",
   "metadata": {},
   "source": [
    "## Queue (List Base)"
   ]
  },
  {
   "cell_type": "code",
   "execution_count": 10,
   "metadata": {},
   "outputs": [],
   "source": [
    "class ListQueue:\n",
    "    def __init__(self):\n",
    "        self.queue = []  # ใช้ list ของ Python"
   ]
  },
  {
   "cell_type": "markdown",
   "metadata": {},
   "source": [
    "## is empty"
   ]
  },
  {
   "cell_type": "code",
   "execution_count": 11,
   "metadata": {},
   "outputs": [],
   "source": [
    "class ListQueue:\n",
    "    def __init__(self):\n",
    "        self.queue = []  # ใช้ list ของ Python\n",
    "\n",
    "    def is_empty(self):\n",
    "            return len(self.queue) == 0  # ตรวจสอบว่าคิวว่างหรือไม่\n",
    "    "
   ]
  },
  {
   "cell_type": "markdown",
   "metadata": {},
   "source": [
    "## enqueue"
   ]
  },
  {
   "cell_type": "code",
   "execution_count": 12,
   "metadata": {},
   "outputs": [],
   "source": [
    "class ListQueue:\n",
    "    def __init__(self):\n",
    "        self.queue = []  # ใช้ list ของ Python\n",
    "\n",
    "    def enqueue(self, data):\n",
    "        self.queue.append(data)  # เพิ่มข้อมูลที่ท้ายคิว\n",
    "        "
   ]
  },
  {
   "cell_type": "markdown",
   "metadata": {},
   "source": [
    "## dequeue"
   ]
  },
  {
   "cell_type": "code",
   "execution_count": 13,
   "metadata": {},
   "outputs": [],
   "source": [
    "class ListQueue:\n",
    "    def __init__(self):\n",
    "        self.queue = []  # ใช้ list ของ Python\n",
    "\n",
    "    def dequeue(self):\n",
    "        if self.is_empty():\n",
    "            raise IndexError(\"Queue is empty\")\n",
    "        return self.queue.pop(0)  # นำข้อมูลจากหัวคิวออก\n"
   ]
  },
  {
   "cell_type": "markdown",
   "metadata": {},
   "source": [
    "## front queue"
   ]
  },
  {
   "cell_type": "code",
   "execution_count": 14,
   "metadata": {},
   "outputs": [],
   "source": [
    "class ListQueue:\n",
    "    def __init__(self):\n",
    "        self.queue = []  # ใช้ list ของ Python\n",
    "\n",
    "    def front_queue(self):\n",
    "        if self.is_empty():\n",
    "            raise IndexError(\"Queue is empty\")\n",
    "        return self.queue[0]  # คืนค่าหัวคิว"
   ]
  },
  {
   "cell_type": "markdown",
   "metadata": {},
   "source": [
    "## rear queue"
   ]
  },
  {
   "cell_type": "code",
   "execution_count": 15,
   "metadata": {},
   "outputs": [],
   "source": [
    "\n",
    "class ListQueue:\n",
    "    def __init__(self):\n",
    "        self.queue = []  # ใช้ list ของ Python\n",
    "\n",
    "    def rear_queue(self):\n",
    "        if self.is_empty():\n",
    "            raise IndexError(\"Queue is empty\")\n",
    "        return self.queue[-1]  # คืนค่าท้ายคิว\n"
   ]
  },
  {
   "cell_type": "markdown",
   "metadata": {},
   "source": [
    "## print"
   ]
  },
  {
   "cell_type": "code",
   "execution_count": 16,
   "metadata": {},
   "outputs": [],
   "source": [
    "class ListQueue:\n",
    "    def __init__(self):\n",
    "        self.queue = []  # ใช้ list ของ Python\n",
    "\n",
    "    def print(self):\n",
    "        print(\"Queue:\", self.queue)\n"
   ]
  },
  {
   "cell_type": "markdown",
   "metadata": {},
   "source": [
    "## Example Use"
   ]
  },
  {
   "cell_type": "markdown",
   "metadata": {},
   "source": [
    "### Create Structure Queue List"
   ]
  },
  {
   "cell_type": "code",
   "execution_count": 17,
   "metadata": {},
   "outputs": [],
   "source": [
    "class ListQueue:\n",
    "    def __init__(self):\n",
    "        self.queue = []  # ใช้ list ของ Python\n",
    "\n",
    "    def is_empty(self):\n",
    "        return len(self.queue) == 0  # ตรวจสอบว่าคิวว่างหรือไม่\n",
    "\n",
    "    def enqueue(self, data):\n",
    "        self.queue.append(data)  # เพิ่มข้อมูลที่ท้ายคิว\n",
    "\n",
    "    def dequeue(self):\n",
    "        if self.is_empty():\n",
    "            raise IndexError(\"Queue is empty\")\n",
    "        return self.queue.pop(0)  # นำข้อมูลจากหัวคิวออก\n",
    "\n",
    "    def front_queue(self):\n",
    "        if self.is_empty():\n",
    "            raise IndexError(\"Queue is empty\")\n",
    "        return self.queue[0]  # คืนค่าหัวคิว\n",
    "\n",
    "    def rear_queue(self):\n",
    "        if self.is_empty():\n",
    "            raise IndexError(\"Queue is empty\")\n",
    "        return self.queue[-1]  # คืนค่าท้ายคิว\n",
    "\n",
    "    def print(self):\n",
    "        print(\"Queue:\", self.queue)\n"
   ]
  },
  {
   "cell_type": "code",
   "execution_count": 18,
   "metadata": {},
   "outputs": [
    {
     "name": "stdout",
     "output_type": "stream",
     "text": [
      "\n",
      "List Base Queue:\n",
      "Queue: [10, 20, 30]\n",
      "Front: 10\n",
      "Rear: 30\n",
      "Queue: [20, 30]\n"
     ]
    }
   ],
   "source": [
    "if __name__ == \"__main__\":\n",
    "    # List Base Queue\n",
    "    print(\"\\nList Base Queue:\")\n",
    "    list_queue = ListQueue()\n",
    "    list_queue.enqueue(10)\n",
    "    list_queue.enqueue(20)\n",
    "    list_queue.enqueue(30)\n",
    "    list_queue.print()\n",
    "    print(\"Front:\", list_queue.front_queue())\n",
    "    print(\"Rear:\", list_queue.rear_queue())\n",
    "    list_queue.dequeue()\n",
    "    list_queue.print()\n"
   ]
  }
 ],
 "metadata": {
  "kernelspec": {
   "display_name": "base",
   "language": "python",
   "name": "python3"
  },
  "language_info": {
   "codemirror_mode": {
    "name": "ipython",
    "version": 3
   },
   "file_extension": ".py",
   "mimetype": "text/x-python",
   "name": "python",
   "nbconvert_exporter": "python",
   "pygments_lexer": "ipython3",
   "version": "3.12.3"
  }
 },
 "nbformat": 4,
 "nbformat_minor": 2
}
