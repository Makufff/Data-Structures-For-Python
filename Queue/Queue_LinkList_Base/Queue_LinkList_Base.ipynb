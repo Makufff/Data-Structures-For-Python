{
 "cells": [
  {
   "cell_type": "markdown",
   "metadata": {},
   "source": [
    "## Queue (LinkList Base)"
   ]
  },
  {
   "cell_type": "markdown",
   "metadata": {},
   "source": [
    "### Create Node\n",
    "![image.png](./image/Node.png)"
   ]
  },
  {
   "cell_type": "code",
   "execution_count": null,
   "metadata": {},
   "outputs": [],
   "source": [
    "class Node :\n",
    "    pass"
   ]
  },
  {
   "cell_type": "markdown",
   "metadata": {},
   "source": [
    "![image.png](./image/Node_Data_Next.png)"
   ]
  },
  {
   "cell_type": "code",
   "execution_count": null,
   "metadata": {},
   "outputs": [],
   "source": [
    "class Node :\n",
    "    def __init__(self, data):\n",
    "        # ข้อมูล\n",
    "        self.data = data\n",
    "        # Node ถัดไป\n",
    "        self.next = None\n",
    "        # Node ก่อนหน้า\n",
    "        self.prev = None    "
   ]
  },
  {
   "cell_type": "markdown",
   "metadata": {},
   "source": [
    "## Create Queue"
   ]
  },
  {
   "cell_type": "code",
   "execution_count": null,
   "metadata": {},
   "outputs": [],
   "source": [
    "class Queue:\n",
    "    def __init__(self):\n",
    "        self.front = None # ด้านหน้าของ queue\n",
    "        self.rear = None # ด้านหลังของ queue\n",
    "        self.size = 0 # ขนาดของ queue"
   ]
  },
  {
   "cell_type": "markdown",
   "metadata": {},
   "source": [
    "## is empty"
   ]
  },
  {
   "cell_type": "code",
   "execution_count": null,
   "metadata": {},
   "outputs": [],
   "source": [
    "class Queue:\n",
    "    def __init__(self):\n",
    "        self.front = None # ด้านหน้าของ queue\n",
    "        self.rear = None # ด้านหลังของ queue\n",
    "        self.size = 0 # ขนาดของ queue\n",
    "    \n",
    "    def is_empty(self):\n",
    "        return self.size == 0 #ตรวจสอบว่า queue ว่างหรือไม่"
   ]
  },
  {
   "cell_type": "markdown",
   "metadata": {},
   "source": [
    "## enqueue"
   ]
  },
  {
   "cell_type": "code",
   "execution_count": null,
   "metadata": {},
   "outputs": [],
   "source": [
    "class Queue:\n",
    "    def __init__(self):\n",
    "        self.front = None # ด้านหน้าของ queue\n",
    "        self.rear = None # ด้านหลังของ queue\n",
    "        self.size = 0 # ขนาดของ queue\n",
    "\n",
    "    def enqueue(self,data):\n",
    "        # สร้าง node ใหม่ขึ้นมา\n",
    "        new_node = Node(data)\n",
    "        # ตรวจสอบว่า queue ว่างอยู่หรือไม่\n",
    "        if self.is_empty():\n",
    "            # ถ้าว่าง กำหนดให้ด้านหน้าและหลังของ queue เป็น node ใหม่\n",
    "            self.front = new_node\n",
    "            self.rear = new_node\n",
    "        else:\n",
    "            # ถ้าไม่ว่าง เปลี่ยนตัวต่อไปของตัวสุดท้ายให้เป็น node ใหม่\n",
    "            self.rear.next = new_node\n",
    "            # เปลี่ยนตัวก่อนหน้าของ node ใหม่ ให้เป็น node ตัวสุดท้ายของ queue\n",
    "            new_node.prev = self.rear\n",
    "            # เปลี่ยนตัวสุดท้ายของ queue ให้เป็นตัวใหม่\n",
    "            self.rear = self.rear.next\n",
    "        self.size+=1 # เพิ่มขนาดปัจจุบันของ queue"
   ]
  },
  {
   "cell_type": "markdown",
   "metadata": {},
   "source": [
    "## dequeue"
   ]
  },
  {
   "cell_type": "code",
   "execution_count": null,
   "metadata": {},
   "outputs": [],
   "source": [
    "class Queue:\n",
    "    def __init__(self):\n",
    "        self.front = None # ด้านหน้าของ queue\n",
    "        self.rear = None # ด้านหลังของ queue\n",
    "        self.size = 0 # ขนาดของ queue\n",
    "    \n",
    "    def dequeue(self):\n",
    "        if self.is_empty():\n",
    "            print(\"Queue is empty\")\n",
    "            return\n",
    "        data = self.front.data\n",
    "        # เปลี่ยน front ของ queue ให้กลายเป็นตัวที่ 2\n",
    "        self.front = self.front.next\n",
    "        if self.front:\n",
    "        # เปลี่ยน prev ของ front ให้กลายเป็น None ถ้า front ยังมีอยู่\n",
    "            self.front.prev = None\n",
    "        self.size-=1 # ลดขนาดปัจจุบันของ \n",
    "        return data"
   ]
  },
  {
   "cell_type": "markdown",
   "metadata": {},
   "source": [
    "## front queue"
   ]
  },
  {
   "cell_type": "code",
   "execution_count": null,
   "metadata": {},
   "outputs": [],
   "source": [
    "class Queue:\n",
    "    def __init__(self):\n",
    "        self.front = None # ด้านหน้าของ queue\n",
    "        self.rear = None # ด้านหลังของ queue\n",
    "        self.size = 0 # ขนาดของ queue\n",
    "    \n",
    "    def front_queue(self):\n",
    "        if self.is_empty():\n",
    "            print(\"Queue is empty\")\n",
    "        else:\n",
    "            return self.front.data"
   ]
  },
  {
   "cell_type": "markdown",
   "metadata": {},
   "source": [
    "## rear queue"
   ]
  },
  {
   "cell_type": "code",
   "execution_count": null,
   "metadata": {},
   "outputs": [],
   "source": [
    "class Queue:\n",
    "    def __init__(self):\n",
    "        self.front = None # ด้านหน้าของ queue\n",
    "        self.rear = None # ด้านหลังของ queue\n",
    "        self.size = 0 # ขนาดของ \n",
    "    \n",
    "    def rear_queue(self):\n",
    "        if self.is_empty():\n",
    "            print(\"Queue is empty\")\n",
    "        else:\n",
    "            return self.rear.data"
   ]
  },
  {
   "cell_type": "markdown",
   "metadata": {},
   "source": [
    "## print"
   ]
  },
  {
   "cell_type": "code",
   "execution_count": null,
   "metadata": {},
   "outputs": [],
   "source": [
    "class Queue:\n",
    "    def __init__(self):\n",
    "        self.front = None # ด้านหน้าของ queue\n",
    "        self.rear = None # ด้านหลังของ queue\n",
    "        self.size = 0 # ขนาดของ queue\n",
    "    \n",
    "    def print(self):\n",
    "        if self.is_empty():\n",
    "            print(\"Queue is empty\")\n",
    "            return\n",
    "        \n",
    "        current = self.front\n",
    "        while current:\n",
    "            print(current.val,end=\" \")\n",
    "            current = current.next"
   ]
  }
 ],
 "metadata": {
  "language_info": {
   "name": "python"
  }
 },
 "nbformat": 4,
 "nbformat_minor": 2
}
