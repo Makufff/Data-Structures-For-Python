{
 "cells": [
  {
   "cell_type": "markdown",
   "metadata": {},
   "source": [
    "## Stack (Array Base)"
   ]
  },
  {
   "cell_type": "code",
   "execution_count": 16,
   "metadata": {},
   "outputs": [],
   "source": [
    "class ArrayStack:\n",
    "    def __init__(self, capacity):\n",
    "        # กำหนดความจุสูงสุดของ Stack\n",
    "        self.capacity = capacity\n",
    "        self.stack = [None] * capacity  # สร้างอาร์เรย์ที่มีขนาดคงที่\n",
    "        self.top = -1  # ตำแหน่งของข้อมูลล่าสุดใน Stack"
   ]
  },
  {
   "cell_type": "markdown",
   "metadata": {},
   "source": [
    "## is empty"
   ]
  },
  {
   "cell_type": "code",
   "execution_count": 17,
   "metadata": {},
   "outputs": [],
   "source": [
    "class ArrayStack:\n",
    "    def __init__(self, capacity):\n",
    "        # กำหนดความจุสูงสุดของ Stack\n",
    "        self.capacity = capacity\n",
    "        self.stack = [None] * capacity  # สร้างอาร์เรย์ที่มีขนาดคงที่\n",
    "        self.top = -1  # ตำแหน่งของข้อมูลล่าสุดใน Stack\n",
    "\n",
    "    def is_empty(self):\n",
    "        # ตรวจสอบว่า Stack ว่างหรือไม่\n",
    "        return self.top == -1\n"
   ]
  },
  {
   "cell_type": "markdown",
   "metadata": {},
   "source": [
    "## is full"
   ]
  },
  {
   "cell_type": "code",
   "execution_count": 18,
   "metadata": {},
   "outputs": [],
   "source": [
    "class ArrayStack:\n",
    "    def __init__(self, capacity):\n",
    "        # กำหนดความจุสูงสุดของ Stack\n",
    "        self.capacity = capacity\n",
    "        self.stack = [None] * capacity  # สร้างอาร์เรย์ที่มีขนาดคงที่\n",
    "        self.top = -1  # ตำแหน่งของข้อมูลล่าสุดใน Stack\n",
    "        \n",
    "    def is_full(self):\n",
    "        # ตรวจสอบว่า Stack เต็มหรือไม่\n",
    "        return self.top == self.capacity - 1\n"
   ]
  },
  {
   "cell_type": "markdown",
   "metadata": {},
   "source": [
    "## push"
   ]
  },
  {
   "cell_type": "code",
   "execution_count": 19,
   "metadata": {},
   "outputs": [],
   "source": [
    "class ArrayStack:\n",
    "    def __init__(self, capacity):\n",
    "        # กำหนดความจุสูงสุดของ Stack\n",
    "        self.capacity = capacity\n",
    "        self.stack = [None] * capacity  # สร้างอาร์เรย์ที่มีขนาดคงที่\n",
    "        self.top = -1  # ตำแหน่งของข้อมูลล่าสุดใน Stack\n",
    "\n",
    "        \n",
    "    def push(self, data):\n",
    "        # เพิ่มข้อมูลลงใน Stack\n",
    "        if self.is_full():\n",
    "            raise OverflowError(\"Stack is full\")\n",
    "        self.top += 1\n",
    "        self.stack[self.top] = data\n"
   ]
  },
  {
   "cell_type": "markdown",
   "metadata": {},
   "source": [
    "## pop"
   ]
  },
  {
   "cell_type": "code",
   "execution_count": 20,
   "metadata": {},
   "outputs": [],
   "source": [
    "class ArrayStack:\n",
    "    def __init__(self, capacity):\n",
    "        # กำหนดความจุสูงสุดของ Stack\n",
    "        self.capacity = capacity\n",
    "        self.stack = [None] * capacity  # สร้างอาร์เรย์ที่มีขนาดคงที่\n",
    "        self.top = -1  # ตำแหน่งของข้อมูลล่าสุดใน Stack\n",
    "\n",
    "        \n",
    "    def pop(self):\n",
    "        # ลบและคืนค่าข้อมูลที่อยู่ด้านบนสุดของ Stack\n",
    "        if self.is_empty():\n",
    "            raise IndexError(\"Stack is empty\")\n",
    "        data = self.stack[self.top]\n",
    "        self.stack[self.top] = None  # ลบข้อมูลออกจากตำแหน่ง\n",
    "        self.top -= 1\n",
    "        return data\n"
   ]
  },
  {
   "cell_type": "markdown",
   "metadata": {},
   "source": [
    "## peek หรือ top"
   ]
  },
  {
   "cell_type": "code",
   "execution_count": 21,
   "metadata": {},
   "outputs": [],
   "source": [
    "class ArrayStack:\n",
    "    def __init__(self, capacity):\n",
    "        # กำหนดความจุสูงสุดของ Stack\n",
    "        self.capacity = capacity\n",
    "        self.stack = [None] * capacity  # สร้างอาร์เรย์ที่มีขนาดคงที่\n",
    "        self.top = -1  # ตำแหน่งของข้อมูลล่าสุดใน Stack\n",
    "\n",
    "    def peek(self):\n",
    "        # ดูข้อมูลด้านบนสุดของ Stack โดยไม่ลบ\n",
    "        if self.is_empty():\n",
    "            raise IndexError(\"Stack is empty\")\n",
    "        return self.stack[self.top]\n"
   ]
  },
  {
   "cell_type": "markdown",
   "metadata": {},
   "source": [
    "## print"
   ]
  },
  {
   "cell_type": "code",
   "execution_count": 22,
   "metadata": {},
   "outputs": [],
   "source": [
    "class ArrayStack:\n",
    "    def __init__(self, capacity):\n",
    "        # กำหนดความจุสูงสุดของ Stack\n",
    "        self.capacity = capacity\n",
    "        self.stack = [None] * capacity  # สร้างอาร์เรย์ที่มีขนาดคงที่\n",
    "        self.top = -1  # ตำแหน่งของข้อมูลล่าสุดใน Stack\n",
    "        \n",
    "    def print(self):\n",
    "        # แสดงข้อมูลทั้งหมดใน Stack\n",
    "        print(\"Stack:\", [self.stack[i] for i in range(self.top + 1)])"
   ]
  },
  {
   "cell_type": "markdown",
   "metadata": {},
   "source": [
    "## Example Use"
   ]
  },
  {
   "cell_type": "markdown",
   "metadata": {},
   "source": [
    "### Create Structure Stack Array"
   ]
  },
  {
   "cell_type": "code",
   "execution_count": 23,
   "metadata": {},
   "outputs": [],
   "source": [
    "class ArrayStack:\n",
    "    def __init__(self, capacity):\n",
    "        # กำหนดความจุสูงสุดของ Stack\n",
    "        self.capacity = capacity\n",
    "        self.stack = [None] * capacity  # สร้างอาร์เรย์ที่มีขนาดคงที่\n",
    "        self.top = -1  # ตำแหน่งของข้อมูลล่าสุดใน Stack\n",
    "\n",
    "    def is_empty(self):\n",
    "        # ตรวจสอบว่า Stack ว่างหรือไม่\n",
    "        return self.top == -1\n",
    "\n",
    "    def is_full(self):\n",
    "        # ตรวจสอบว่า Stack เต็มหรือไม่\n",
    "        return self.top == self.capacity - 1\n",
    "\n",
    "    def push(self, data):\n",
    "        # เพิ่มข้อมูลลงใน Stack\n",
    "        if self.is_full():\n",
    "            raise OverflowError(\"Stack is full\")\n",
    "        self.top += 1\n",
    "        self.stack[self.top] = data\n",
    "\n",
    "    def pop(self):\n",
    "        # ลบและคืนค่าข้อมูลที่อยู่ด้านบนสุดของ Stack\n",
    "        if self.is_empty():\n",
    "            raise IndexError(\"Stack is empty\")\n",
    "        data = self.stack[self.top]\n",
    "        self.stack[self.top] = None  # ลบข้อมูลออกจากตำแหน่ง\n",
    "        self.top -= 1\n",
    "        return data\n",
    "\n",
    "    def peek(self):\n",
    "        # ดูข้อมูลด้านบนสุดของ Stack โดยไม่ลบ\n",
    "        if self.is_empty():\n",
    "            raise IndexError(\"Stack is empty\")\n",
    "        return self.stack[self.top]\n",
    "\n",
    "    def print(self):\n",
    "        # แสดงข้อมูลทั้งหมดใน Stack\n",
    "        print(\"Stack:\", [self.stack[i] for i in range(self.top + 1)])\n"
   ]
  },
  {
   "cell_type": "code",
   "execution_count": 24,
   "metadata": {},
   "outputs": [
    {
     "name": "stdout",
     "output_type": "stream",
     "text": [
      "Array Base Stack:\n",
      "Stack: [10, 20, 30]\n",
      "Peek: 30\n",
      "Pop: 30\n",
      "Stack: [10, 20]\n"
     ]
    }
   ],
   "source": [
    "if __name__ == \"__main__\":\n",
    "    # Array Base Stack\n",
    "    print(\"Array Base Stack:\")\n",
    "    array_stack = ArrayStack(5)\n",
    "    array_stack.push(10)\n",
    "    array_stack.push(20)\n",
    "    array_stack.push(30)\n",
    "    array_stack.print()\n",
    "    print(\"Peek:\", array_stack.peek())\n",
    "    print(\"Pop:\", array_stack.pop())\n",
    "    array_stack.print()"
   ]
  },
  {
   "cell_type": "code",
   "execution_count": null,
   "metadata": {},
   "outputs": [],
   "source": []
  }
 ],
 "metadata": {
  "kernelspec": {
   "display_name": "base",
   "language": "python",
   "name": "python3"
  },
  "language_info": {
   "codemirror_mode": {
    "name": "ipython",
    "version": 3
   },
   "file_extension": ".py",
   "mimetype": "text/x-python",
   "name": "python",
   "nbconvert_exporter": "python",
   "pygments_lexer": "ipython3",
   "version": "3.12.3"
  }
 },
 "nbformat": 4,
 "nbformat_minor": 2
}
