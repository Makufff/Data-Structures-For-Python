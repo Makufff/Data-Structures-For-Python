{
 "cells": [
  {
   "cell_type": "markdown",
   "metadata": {},
   "source": [
    "## Linked list"
   ]
  },
  {
   "cell_type": "markdown",
   "metadata": {},
   "source": [
    "### Create Node\n",
    "![image.png](./image/Node.png)"
   ]
  },
  {
   "cell_type": "code",
   "execution_count": 1,
   "metadata": {},
   "outputs": [],
   "source": [
    "class Node :\n",
    "    pass"
   ]
  },
  {
   "cell_type": "markdown",
   "metadata": {},
   "source": [
    "![image.png](./image/Node_Data_Link.png)"
   ]
  },
  {
   "cell_type": "code",
   "execution_count": 2,
   "metadata": {},
   "outputs": [],
   "source": [
    "class Node :\n",
    "    def __init__(self , data):\n",
    "        # ข้อมูล\n",
    "        self.data = data\n",
    "        # ตัวถัดไป \n",
    "        self.link = None"
   ]
  },
  {
   "cell_type": "markdown",
   "metadata": {},
   "source": [
    "### Circular Linked List"
   ]
  },
  {
   "cell_type": "code",
   "execution_count": 3,
   "metadata": {},
   "outputs": [],
   "source": [
    "class CircularLinkedList:\n",
    "    def __init__(self):\n",
    "        # กำหนดค่าเริ่มต้นของ head ให้เป็น None เพื่อแสดงว่าลิสต์ว่าง\n",
    "        self.head = None"
   ]
  },
  {
   "cell_type": "markdown",
   "metadata": {},
   "source": [
    "#### is empty"
   ]
  },
  {
   "cell_type": "code",
   "execution_count": 4,
   "metadata": {},
   "outputs": [],
   "source": [
    "class CircularLinkedList:\n",
    "    def __init__(self):\n",
    "        self.head = None\n",
    "\n",
    "    def is_empty(self):\n",
    "        # ตรวจสอบว่า Circular Linked List ว่างหรือไม่\n",
    "        return self.head is None"
   ]
  },
  {
   "cell_type": "markdown",
   "metadata": {},
   "source": [
    "#### append Linklist"
   ]
  },
  {
   "cell_type": "code",
   "execution_count": 5,
   "metadata": {},
   "outputs": [],
   "source": [
    "class CircularLinkedList:\n",
    "    def __init__(self):\n",
    "        self.head = None\n",
    "    \n",
    "    def append(self, data):\n",
    "        # เพิ่มโหนดใหม่ที่ท้าย Circular Linked List\n",
    "        new_node = Node(data)  # สร้างโหนดใหม่\n",
    "        if self.head is None:\n",
    "            # ถ้าลิสต์ว่าง ให้โหนดใหม่เป็น head และชี้กลับมาที่ตัวเอง\n",
    "            self.head = new_node\n",
    "            new_node.next = self.head\n",
    "        else:\n",
    "            # ถ้าลิสต์ไม่ว่าง ให้วนลูปหาโหนดสุดท้าย\n",
    "            current = self.head\n",
    "            while current.next != self.head:\n",
    "                current = current.next\n",
    "            # เชื่อมโหนดสุดท้ายไปยังโหนดใหม่ และโหนดใหม่ชี้กลับมาที่ head\n",
    "            current.next = new_node\n",
    "            new_node.next = self.head"
   ]
  },
  {
   "cell_type": "markdown",
   "metadata": {},
   "source": [
    "### prepend Linklist"
   ]
  },
  {
   "cell_type": "code",
   "execution_count": 6,
   "metadata": {},
   "outputs": [],
   "source": [
    "class CircularLinkedList:\n",
    "    def __init__(self):\n",
    "        self.head = None\n",
    "    \n",
    "    def prepend(self, data):\n",
    "        # เพิ่มโหนดใหม่ที่ต้น Circular Linked List\n",
    "        new_node = Node(data)  # สร้างโหนดใหม่\n",
    "        if self.head is None:\n",
    "            # ถ้าลิสต์ว่าง ให้โหนดใหม่เป็น head และชี้กลับมาที่ตัวเอง\n",
    "            self.head = new_node\n",
    "            new_node.next = self.head\n",
    "        else:\n",
    "            # ถ้าลิสต์ไม่ว่าง\n",
    "            new_node.next = self.head  # โหนดใหม่ชี้ไปที่ head\n",
    "            current = self.head\n",
    "            while current.next != self.head:\n",
    "                # วนลูปหาโหนดสุดท้าย\n",
    "                current = current.next\n",
    "            # เชื่อมโหนดสุดท้ายไปยังโหนดใหม่ และเปลี่ยน head เป็นโหนดใหม่\n",
    "            current.next = new_node\n",
    "            self.head = new_node"
   ]
  },
  {
   "cell_type": "markdown",
   "metadata": {},
   "source": [
    "### Delete Node"
   ]
  },
  {
   "cell_type": "code",
   "execution_count": 7,
   "metadata": {},
   "outputs": [],
   "source": [
    "class CircularLinkedList:\n",
    "    def __init__(self):\n",
    "        self.head = None\n",
    "    \n",
    "    def delete(self, data):\n",
    "        # ลบโหนดที่มีค่า data ที่กำหนด\n",
    "        if self.head is None:\n",
    "            # ถ้าลิสต์ว่าง ให้แสดงข้อความและหยุดการทำงาน\n",
    "            print(\"List is empty. Nothing to delete.\")\n",
    "            return\n",
    "\n",
    "        current = self.head  # เริ่มต้นที่ head\n",
    "        prev = None  # ตัวแปรสำหรับเก็บโหนดก่อนหน้า\n",
    "\n",
    "        while True:\n",
    "            if current.data == data:\n",
    "                # ถ้าพบโหนดที่ต้องการลบ\n",
    "                if prev is not None:\n",
    "                    # ถ้าไม่ใช่ head ให้เชื่อมโหนดก่อนหน้าไปยังโหนดถัดไป\n",
    "                    prev.next = current.next\n",
    "                else:\n",
    "                    # ถ้าเป็น head ให้ปรับ tail ให้ชี้ไปที่โหนดถัดไปของ head\n",
    "                    tail = self.head\n",
    "                    while tail.next != self.head:\n",
    "                        tail = tail.next\n",
    "                    tail.next = self.head.next\n",
    "                    self.head = self.head.next\n",
    "                return  # ลบสำเร็จ ออกจากฟังก์ชัน\n",
    "            elif current.next == self.head:\n",
    "                # ถ้าลูปกลับมาที่ head และยังไม่พบ data\n",
    "                break\n",
    "\n",
    "            # เลื่อนไปที่โหนดถัดไป\n",
    "            prev = current\n",
    "            current = current.next\n",
    "\n",
    "        # ถ้าไม่พบ data ที่ต้องการลบ\n",
    "        print(\"Data not found in the list.\")"
   ]
  },
  {
   "cell_type": "markdown",
   "metadata": {},
   "source": [
    "### Search Linklist"
   ]
  },
  {
   "cell_type": "code",
   "execution_count": 8,
   "metadata": {},
   "outputs": [],
   "source": [
    "class CircularLinkedList:\n",
    "    def __init__(self):\n",
    "        self.head = None\n",
    "    \n",
    "    def search(self, data):\n",
    "        # ค้นหาโหนดที่มีค่า data ที่กำหนด\n",
    "        if self.head is None:\n",
    "            # ถ้าลิสต์ว่าง ให้คืนค่า False\n",
    "            return False\n",
    "\n",
    "        current = self.head  # เริ่มต้นที่ head\n",
    "        while True: \n",
    "            if current.data == data:\n",
    "                # ถ้าพบค่า ให้คืนค่า True\n",
    "                return True\n",
    "            current = current.next  # เลื่อนไปที่โหนดถัดไป\n",
    "            if current == self.head:\n",
    "                # ถ้ากลับมาที่ head แสดงว่าไม่พบค่า\n",
    "                break\n",
    "        return False  # ไม่พบค่าในลิสต์"
   ]
  },
  {
   "cell_type": "markdown",
   "metadata": {},
   "source": [
    "### Print Linklist"
   ]
  },
  {
   "cell_type": "code",
   "execution_count": 9,
   "metadata": {},
   "outputs": [],
   "source": [
    "class CircularLinkedList:\n",
    "    def __init__(self):\n",
    "        self.head = None\n",
    "    \n",
    "    def printlinklist(self):\n",
    "        # แสดงข้อมูลใน Circular Linked List\n",
    "        if self.head is None:\n",
    "            # ถ้าลิสต์ว่าง ให้แสดงข้อความ\n",
    "            print(\"List is empty.\")\n",
    "            return\n",
    "\n",
    "        current = self.head  # เริ่มต้นที่ head\n",
    "        while True:\n",
    "            # แสดงค่าในโหนด\n",
    "            print(current.data, end=\" -> \")\n",
    "            current = current.next  # เลื่อนไปที่โหนดถัดไป\n",
    "            if current == self.head:\n",
    "                # ถ้าโหนดถัดไปเป็น head แสดงว่าครบลิสต์แล้ว\n",
    "                break\n",
    "        print(\"(back to head)\")"
   ]
  },
  {
   "cell_type": "markdown",
   "metadata": {},
   "source": [
    "#### Example Use"
   ]
  },
  {
   "cell_type": "markdown",
   "metadata": {},
   "source": [
    "##### Create Structure Singly Linklist"
   ]
  },
  {
   "cell_type": "code",
   "execution_count": 12,
   "metadata": {},
   "outputs": [],
   "source": [
    "class Node:\n",
    "    \"\"\"\n",
    "    คลาส Node ใช้สำหรับแสดงถึงองค์ประกอบแต่ละตัวใน Circular Linked List\n",
    "    Attributes:\n",
    "        data: ค่า (ข้อมูล) ที่เก็บไว้ในโหนด\n",
    "        next: การอ้างอิงไปยังโหนดถัดไปใน Circular Linked List\n",
    "    \"\"\"\n",
    "    def __init__(self, data):\n",
    "        # กำหนดค่าเริ่มต้นสำหรับ data\n",
    "        self.data = data\n",
    "        # กำหนดค่าเริ่มต้นของ next ให้เป็น None\n",
    "        self.next = None\n",
    "\n",
    "class CircularLinkedList:\n",
    "    \"\"\"\n",
    "    คลาส CircularLinkedList ใช้แสดงโครงสร้าง Circular Linked List\n",
    "    Attributes:\n",
    "        head: โหนดหัวของ Circular Linked List\n",
    "    \"\"\"\n",
    "    def __init__(self):\n",
    "        # กำหนดค่าเริ่มต้นของ head ให้เป็น None เพื่อแสดงว่าลิสต์ว่าง\n",
    "        self.head = None\n",
    "\n",
    "    def is_empty(self):\n",
    "        # ตรวจสอบว่า Circular Linked List ว่างหรือไม่\n",
    "        return self.head is None\n",
    "\n",
    "    def append(self, data):\n",
    "        # เพิ่มโหนดใหม่ที่ท้าย Circular Linked List\n",
    "        new_node = Node(data)  # สร้างโหนดใหม่\n",
    "        if self.head is None:\n",
    "            # ถ้าลิสต์ว่าง ให้โหนดใหม่เป็น head และชี้กลับมาที่ตัวเอง\n",
    "            self.head = new_node\n",
    "            new_node.next = self.head\n",
    "        else:\n",
    "            # ถ้าลิสต์ไม่ว่าง ให้วนลูปหาโหนดสุดท้าย\n",
    "            current = self.head\n",
    "            while current.next != self.head:\n",
    "                current = current.next\n",
    "            # เชื่อมโหนดสุดท้ายไปยังโหนดใหม่ และโหนดใหม่ชี้กลับมาที่ head\n",
    "            current.next = new_node\n",
    "            new_node.next = self.head\n",
    "\n",
    "    def prepend(self, data):\n",
    "        # เพิ่มโหนดใหม่ที่ต้น Circular Linked List\n",
    "        new_node = Node(data)  # สร้างโหนดใหม่\n",
    "        if self.head is None:\n",
    "            # ถ้าลิสต์ว่าง ให้โหนดใหม่เป็น head และชี้กลับมาที่ตัวเอง\n",
    "            self.head = new_node\n",
    "            new_node.next = self.head\n",
    "        else:\n",
    "            # ถ้าลิสต์ไม่ว่าง\n",
    "            new_node.next = self.head  # โหนดใหม่ชี้ไปที่ head\n",
    "            current = self.head\n",
    "            while current.next != self.head:\n",
    "                # วนลูปหาโหนดสุดท้าย\n",
    "                current = current.next\n",
    "            # เชื่อมโหนดสุดท้ายไปยังโหนดใหม่ และเปลี่ยน head เป็นโหนดใหม่\n",
    "            current.next = new_node\n",
    "            self.head = new_node\n",
    "\n",
    "    def delete(self, data):\n",
    "        # ลบโหนดที่มีค่า data ที่กำหนด\n",
    "        if self.head is None:\n",
    "            # ถ้าลิสต์ว่าง ให้แสดงข้อความและหยุดการทำงาน\n",
    "            print(\"List is empty. Nothing to delete.\")\n",
    "            return\n",
    "\n",
    "        current = self.head  # เริ่มต้นที่ head\n",
    "        prev = None  # ตัวแปรสำหรับเก็บโหนดก่อนหน้า\n",
    "\n",
    "        while True:\n",
    "            if current.data == data:\n",
    "                # ถ้าพบโหนดที่ต้องการลบ\n",
    "                if prev is not None:\n",
    "                    # ถ้าไม่ใช่ head ให้เชื่อมโหนดก่อนหน้าไปยังโหนดถัดไป\n",
    "                    prev.next = current.next\n",
    "                else:\n",
    "                    # ถ้าเป็น head ให้ปรับ tail ให้ชี้ไปที่โหนดถัดไปของ head\n",
    "                    tail = self.head\n",
    "                    while tail.next != self.head:\n",
    "                        tail = tail.next\n",
    "                    tail.next = self.head.next\n",
    "                    self.head = self.head.next\n",
    "                return  # ลบสำเร็จ ออกจากฟังก์ชัน\n",
    "            elif current.next == self.head:\n",
    "                # ถ้าลูปกลับมาที่ head และยังไม่พบ data\n",
    "                break\n",
    "\n",
    "            # เลื่อนไปที่โหนดถัดไป\n",
    "            prev = current\n",
    "            current = current.next\n",
    "\n",
    "        # ถ้าไม่พบ data ที่ต้องการลบ\n",
    "        print(\"Data not found in the list.\")\n",
    "\n",
    "    def search(self, data):\n",
    "        # ค้นหาโหนดที่มีค่า data ที่กำหนด\n",
    "        if self.head is None:\n",
    "            # ถ้าลิสต์ว่าง ให้คืนค่า False\n",
    "            return False\n",
    "\n",
    "        current = self.head  # เริ่มต้นที่ head\n",
    "        while True:\n",
    "            if current.data == data:\n",
    "                # ถ้าพบค่า ให้คืนค่า True\n",
    "                return True\n",
    "            current = current.next  # เลื่อนไปที่โหนดถัดไป\n",
    "            if current == self.head:\n",
    "                # ถ้ากลับมาที่ head แสดงว่าไม่พบค่า\n",
    "                break\n",
    "        return False  # ไม่พบค่าในลิสต์\n",
    "\n",
    "    def printlinklist(self):\n",
    "        # แสดงข้อมูลใน Circular Linked List\n",
    "        if self.head is None:\n",
    "            # ถ้าลิสต์ว่าง ให้แสดงข้อความ\n",
    "            print(\"List is empty.\")\n",
    "            return\n",
    "\n",
    "        current = self.head  # เริ่มต้นที่ head\n",
    "        while True:\n",
    "            # แสดงค่าในโหนด\n",
    "            print(current.data, end=\" -> \")\n",
    "            current = current.next  # เลื่อนไปที่โหนดถัดไป\n",
    "            if current == self.head:\n",
    "                # ถ้าโหนดถัดไปเป็น head แสดงว่าครบลิสต์แล้ว\n",
    "                break\n",
    "        print(\"(back to head)\")\n"
   ]
  },
  {
   "cell_type": "code",
   "execution_count": 13,
   "metadata": {},
   "outputs": [
    {
     "name": "stdout",
     "output_type": "stream",
     "text": [
      "After appending elements:\n",
      "10 -> 20 -> 30 -> (back to head)\n",
      "After prepending an element:\n",
      "5 -> 10 -> 20 -> 30 -> (back to head)\n",
      "After deleting 20:\n",
      "5 -> 10 -> 30 -> (back to head)\n",
      "Searching for 10: True\n",
      "Searching for 40: False\n",
      "Data not found in the list.\n",
      "After deleting head:\n",
      "10 -> 30 -> (back to head)\n"
     ]
    }
   ],
   "source": [
    "# ตัวอย่างการใช้งาน\n",
    "if __name__ == \"__main__\":\n",
    "    cll = CircularLinkedList()  # สร้าง Circular Linked List\n",
    "\n",
    "    # เพิ่มโหนดที่ท้ายลิสต์\n",
    "    cll.append(10)\n",
    "    cll.append(20)\n",
    "    cll.append(30)\n",
    "    print(\"After appending elements:\")\n",
    "    cll.printlinklist()\n",
    "\n",
    "    # เพิ่มโหนดที่ต้นลิสต์\n",
    "    cll.prepend(5)\n",
    "    print(\"After prepending an element:\")\n",
    "    cll.printlinklist()\n",
    "\n",
    "    # ลบโหนดที่มีค่า 20\n",
    "    cll.delete(20)\n",
    "    print(\"After deleting 20:\")\n",
    "    cll.printlinklist()\n",
    "\n",
    "    # ค้นหาโหนด\n",
    "    print(\"Searching for 10:\", cll.search(10))\n",
    "    print(\"Searching for 40:\", cll.search(40))\n",
    "\n",
    "    # ลบโหนดที่ไม่มีในลิสต์\n",
    "    cll.delete(40)\n",
    "\n",
    "    # ลบ head\n",
    "    cll.delete(5)\n",
    "    print(\"After deleting head:\")\n",
    "    cll.printlinklist()\n"
   ]
  },
  {
   "cell_type": "code",
   "execution_count": null,
   "metadata": {},
   "outputs": [],
   "source": []
  }
 ],
 "metadata": {
  "kernelspec": {
   "display_name": "base",
   "language": "python",
   "name": "python3"
  },
  "language_info": {
   "codemirror_mode": {
    "name": "ipython",
    "version": 3
   },
   "file_extension": ".py",
   "mimetype": "text/x-python",
   "name": "python",
   "nbconvert_exporter": "python",
   "pygments_lexer": "ipython3",
   "version": "3.12.3"
  }
 },
 "nbformat": 4,
 "nbformat_minor": 2
}
