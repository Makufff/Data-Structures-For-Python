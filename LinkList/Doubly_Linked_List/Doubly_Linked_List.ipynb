{
 "cells": [
  {
   "cell_type": "markdown",
   "metadata": {},
   "source": [
    "## Linked list"
   ]
  },
  {
   "cell_type": "markdown",
   "metadata": {},
   "source": [
    "### Create Node\n",
    "![image.png](./image/Node_Structure.png)"
   ]
  },
  {
   "cell_type": "code",
   "execution_count": 20,
   "metadata": {},
   "outputs": [],
   "source": [
    "class Node :\n",
    "    pass"
   ]
  },
  {
   "cell_type": "markdown",
   "metadata": {},
   "source": [
    "![image.png](./image/Node_Data_Next.png)"
   ]
  },
  {
   "cell_type": "code",
   "execution_count": 6,
   "metadata": {},
   "outputs": [],
   "source": [
    "class Node :\n",
    "    def __init__(self, data):\n",
    "        # ข้อมูล\n",
    "        self.data = data\n",
    "        # Node ถัดไป\n",
    "        self.next = None\n",
    "        # Node ก่อนหน้า\n",
    "        self.prev = None    "
   ]
  },
  {
   "cell_type": "markdown",
   "metadata": {},
   "source": [
    "### Singly nexted List"
   ]
  },
  {
   "cell_type": "code",
   "execution_count": 7,
   "metadata": {},
   "outputs": [],
   "source": [
    "class DoublyLinkedlist :\n",
    "    def __init__(self):\n",
    "        # ข้อมูลของ Linklist\n",
    "        self.head = None"
   ]
  },
  {
   "cell_type": "markdown",
   "metadata": {},
   "source": [
    "#### is empty"
   ]
  },
  {
   "cell_type": "code",
   "execution_count": 8,
   "metadata": {},
   "outputs": [],
   "source": [
    "class DoublyLinkedlist :\n",
    "    def __init__(self):\n",
    "        self.head = None\n",
    "\n",
    "    def is_empty(self):\n",
    "        # เช็คว่า Linklist เท่ากัย None ไหมถ้าเท่ากับแสดงว่าไม่มี Node\n",
    "        return self.head is None"
   ]
  },
  {
   "cell_type": "markdown",
   "metadata": {},
   "source": [
    "#### append Linklist"
   ]
  },
  {
   "cell_type": "code",
   "execution_count": null,
   "metadata": {},
   "outputs": [],
   "source": [
    "class DoublyLinkedlist :\n",
    "    def __init__(self):\n",
    "        self.head = None\n",
    "    \n",
    "    def append_list(self , data):\n",
    "        # สร้าง Node ใหม่ขึ้นมาก่อน\n",
    "        new_node = Node(data)\n",
    "        # เช็คดูว่าตัวสุดท้ายของ Linklist เป็น None ไหม\n",
    "        if self.head is None:\n",
    "            # ถ้าเป็นก็ให้ชี้หา new_node\n",
    "            self.head = new_node\n",
    "        else:\n",
    "            # ในกรณีที่ตัวสุดท้ายไม่เท่ากับ None\n",
    "            current = self.head\n",
    "            # ก็จะเรียกจนกว่าจะเป็น None\n",
    "            while current.next:\n",
    "                # โดยที่จะเรียก Node ตัวถัดไป\n",
    "                current = current.next\n",
    "            # แล้วให้ Node ถัดไปชี้ไปหา new_node\n",
    "            current.next = new_node\n",
    "            # แล้วให้ new_node ชี้กลับมาหา node ปัจจุบันด้วย\n",
    "            new_node.prev = current"
   ]
  },
  {
   "cell_type": "markdown",
   "metadata": {},
   "source": [
    "### prepend Linklist"
   ]
  },
  {
   "cell_type": "code",
   "execution_count": null,
   "metadata": {},
   "outputs": [],
   "source": [
    "class DoublyLinkedlist :\n",
    "    def __init__(self):\n",
    "        self.head = None\n",
    "    \n",
    "    def prepend(self, data):\n",
    "        # สร้าง new_node ใหม่ขึ้นมา\n",
    "        new_node = Node(data)\n",
    "        # แล้วให้ Node ใหม่ชี้หา Node แรก\n",
    "        # แสดงว่า new_node ก็จะชี้หาทั้งก้อนเลยอะดิ\n",
    "        new_node.next = self.head\n",
    "        # แล้วให้ Node แรกชื้กลับมาหา new_node\n",
    "        self.head.prev = new_node\n",
    "        # แล้วสุดท้ายก็ให้ ทั้งก้อนเป็น new_node\n",
    "        self.head = new_node"
   ]
  },
  {
   "cell_type": "markdown",
   "metadata": {},
   "source": [
    "### Delete Node"
   ]
  },
  {
   "cell_type": "code",
   "execution_count": null,
   "metadata": {},
   "outputs": [],
   "source": [
    "class DoublyLinkedlist :\n",
    "    def __init__(self):\n",
    "        self.head = None\n",
    "    \n",
    "    def delete(self, data):\n",
    "        # ตรวจสอบว่าลิสต์ว่างหรือไม่\n",
    "        if self.head is None:\n",
    "            # ถ้าลิสต์ว่าง ให้แสดงข้อความ \"List is empty. Nothing to delete.\"\n",
    "            print(\"List is empty. Nothing to delete.\")\n",
    "            # และ Return ออกไป\n",
    "            return\n",
    "\n",
    "        # เริ่มต้นที่โหนดแรก (head) ของลิสต์\n",
    "        current = self.head\n",
    "\n",
    "        # วนลูปเพื่อหาโหนดที่มีค่าเท่ากับ `data`\n",
    "        while current and current.data != data:\n",
    "            # ถ้าค่าในโหนดปัจจุบันไม่ตรงกับ `data` ให้เลื่อนไปที่โหนดถัดไป\n",
    "            current = current.next\n",
    "\n",
    "        # ตรวจสอบว่าเจอค่า `data` หรือไม่\n",
    "        if current is None:\n",
    "            # ถ้าไม่เจอ ให้แสดงข้อความ \"Data not found in the list.\"\n",
    "            print(\"Data not found in the list.\")\n",
    "        else:\n",
    "            # กรณีเจอโหนดที่ต้องการลบ\n",
    "\n",
    "            # ถ้าโหนดมีโหนดก่อนหน้า (prev ไม่เป็น None)\n",
    "            if current.prev:\n",
    "                # ให้โหนดก่อนหน้าเชื่อมไปยังโหนดถัดไปของโหนดที่จะลบ\n",
    "                current.prev.next = current.next\n",
    "\n",
    "            # ถ้าโหนดมีโหนดถัดไป (next ไม่เป็น None)\n",
    "            if current.next:\n",
    "                # ให้โหนดถัดไปเชื่อมกลับไปยังโหนดก่อนหน้าของโหนดที่จะลบ\n",
    "                current.next.prev = current.prev\n",
    "\n",
    "            # ถ้าโหนดที่จะลบคือโหนดแรก (head)\n",
    "            if current == self.head:\n",
    "                # ให้โหนดแรก (head) ชี้ไปยังโหนดถัดไป\n",
    "                self.head = current.next\n"
   ]
  },
  {
   "cell_type": "markdown",
   "metadata": {},
   "source": [
    "### Print Linklist Forward"
   ]
  },
  {
   "cell_type": "code",
   "execution_count": 14,
   "metadata": {},
   "outputs": [],
   "source": [
    "class DoublyLinkedlist :\n",
    "    def __init__(self):\n",
    "        self.head = None\n",
    "    \n",
    "    def print_linklist_forward(self):\n",
    "        # เงื่อนไขแรกที่จะดูคือถ้า ใน nexted list ตัวแรกเป็น None\n",
    "        if self.head is None:\n",
    "            # ให้แสดงว่า \"List is empty\"\n",
    "            print(\"List is empty.\")\n",
    "            # แล้ว Return ออกไป\n",
    "            return\n",
    "        # ถ้า nexted list ตัวแรกไม่เป็น None แสดงว่ามี Node\n",
    "        current = self.head\n",
    "        # เรียก Node ออกมา\n",
    "        while current:\n",
    "            # ให้แสดงค่าใน Node\n",
    "            print(current.data, end=\" <-> \")\n",
    "            # แล้วเรียก Node ถัดไป\n",
    "            current = current.next\n",
    "        # ถ้า Node ถึงตัวสุดท้ายก็ให้แสดงค่าออกมา None มาด้วย\n",
    "        print(\"None\")"
   ]
  },
  {
   "cell_type": "markdown",
   "metadata": {},
   "source": [
    "### Print Linklist Backward"
   ]
  },
  {
   "cell_type": "code",
   "execution_count": 15,
   "metadata": {},
   "outputs": [],
   "source": [
    "class DoublyLinkedlist :\n",
    "    def __init__(self):\n",
    "        self.head = None\n",
    "    \n",
    "    def print_linklist_backward(self):\n",
    "        # เงื่อนไขแรกที่จะดูคือถ้า ใน nexted list ตัวแรกเป็น None\n",
    "        if self.head is None:\n",
    "            # ให้แสดงว่า \"List is empty\"\n",
    "            print(\"List is empty.\")\n",
    "            # แล้ว Return ออกไป\n",
    "            return\n",
    "\n",
    "        # ถ้า nexted list ตัวแรกไม่เป็น None แสดงว่ามี Node\n",
    "        current = self.head\n",
    "        # เรียก Node ออกมา\n",
    "        while current:\n",
    "            # ให้แสดงค่าใน Node\n",
    "            print(current.data, end=\" <-> \")\n",
    "            # แล้วเรียก Node ก่อนหน้า\n",
    "            current = current.prev\n",
    "        # ถ้า Node ถึงตัวสุดท้ายก็ให้แสดงค่าออกมา None มาด้วย\n",
    "        print(\"None\")\n"
   ]
  },
  {
   "cell_type": "markdown",
   "metadata": {},
   "source": [
    "#### Example Use"
   ]
  },
  {
   "cell_type": "markdown",
   "metadata": {},
   "source": [
    "##### Create Structure Doubly Linklist"
   ]
  },
  {
   "cell_type": "code",
   "execution_count": 18,
   "metadata": {},
   "outputs": [],
   "source": [
    "class Node:\n",
    "    def __init__(self, data):\n",
    "        self.data = data\n",
    "        self.next = None\n",
    "        self.prev = None\n",
    "\n",
    "class DoublyLinkedList:\n",
    "    def __init__(self):\n",
    "        self.head = None\n",
    "\n",
    "    def is_empty(self):\n",
    "        return self.head is None\n",
    "\n",
    "    def append(self, data):\n",
    "        new_node = Node(data)\n",
    "        if self.head is None:\n",
    "            self.head = new_node\n",
    "        else:\n",
    "            current = self.head\n",
    "            while current.next:\n",
    "                current = current.next\n",
    "            current.next = new_node\n",
    "            new_node.prev = current\n",
    "\n",
    "    def prepend(self, data):\n",
    "        new_node = Node(data)\n",
    "        if self.head is None:\n",
    "            self.head = new_node\n",
    "        else:\n",
    "            new_node.next = self.head\n",
    "            self.head.prev = new_node\n",
    "            self.head = new_node\n",
    "\n",
    "    def delete(self, data):\n",
    "        if self.head is None:\n",
    "            print(\"List is empty. Nothing to delete.\")\n",
    "            return\n",
    "\n",
    "        current = self.head\n",
    "        while current and current.data != data:\n",
    "            current = current.next\n",
    "\n",
    "        if current is None:\n",
    "            print(\"Data not found in the list.\")\n",
    "        else:\n",
    "            if current.prev:\n",
    "                current.prev.next = current.next\n",
    "            if current.next:\n",
    "                current.next.prev = current.prev\n",
    "            if current == self.head:\n",
    "                self.head = current.next\n",
    "\n",
    "    def print_linklist_forward(self):\n",
    "        if self.head is None:\n",
    "            print(\"List is empty.\")\n",
    "            return\n",
    "\n",
    "        current = self.head\n",
    "        while current:\n",
    "            print(current.data, end=\" <-> \")\n",
    "            current = current.next\n",
    "        print(\"None\")\n",
    "\n",
    "    def print_linklist_backward(self):\n",
    "        if self.head is None:\n",
    "            print(\"List is empty.\")\n",
    "            return\n",
    "\n",
    "        current = self.head\n",
    "        while current.next:\n",
    "            current = current.next\n",
    "\n",
    "        while current:\n",
    "            print(current.data, end=\" <-> \")\n",
    "            current = current.prev\n",
    "        print(\"None\")"
   ]
  },
  {
   "cell_type": "code",
   "execution_count": null,
   "metadata": {},
   "outputs": [
    {
     "name": "stdout",
     "output_type": "stream",
     "text": [
      "After appending elements:\n",
      "10 <-> 20 <-> 30 <-> None\n",
      "After prepending an element:\n",
      "5 <-> 10 <-> 20 <-> 30 <-> None\n",
      "Displaying in reverse order:\n",
      "30 <-> 20 <-> 10 <-> 5 <-> None\n",
      "After deleting 20:\n",
      "30 <-> 10 <-> 5 <-> None\n"
     ]
    }
   ],
   "source": [
    "if __name__ == \"__main__\":\n",
    "    dll = DoublyLinkedList()\n",
    "\n",
    "    # เพิ่มโหนด\n",
    "    dll.append(10)\n",
    "    dll.append(20)\n",
    "    dll.append(30)\n",
    "    print(\"After appending elements:\")\n",
    "    dll.print_linklist_forward()\n",
    "\n",
    "    # เพิ่มโหนดที่ต้นลิสต์\n",
    "    dll.prepend(5)\n",
    "    print(\"After prepending an element:\")\n",
    "    dll.print_linklist_forward()\n",
    "\n",
    "    # แสดงผลย้อนกลับ\n",
    "    print(\"Displaying in reverse order:\")\n",
    "    dll.print_linklist_backward()\n",
    "\n",
    "    # ลบโหนด\n",
    "    dll.delete(20)\n",
    "    print(\"After deleting 20:\")\n",
    "    dll.print_linklist_backward()"
   ]
  },
  {
   "cell_type": "markdown",
   "metadata": {},
   "source": []
  }
 ],
 "metadata": {
  "kernelspec": {
   "display_name": "base",
   "language": "python",
   "name": "python3"
  },
  "language_info": {
   "codemirror_mode": {
    "name": "ipython",
    "version": 3
   },
   "file_extension": ".py",
   "mimetype": "text/x-python",
   "name": "python",
   "nbconvert_exporter": "python",
   "pygments_lexer": "ipython3",
   "version": "3.12.3"
  }
 },
 "nbformat": 4,
 "nbformat_minor": 2
}
